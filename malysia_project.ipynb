{
 "cells": [
  {
   "cell_type": "code",
   "execution_count": 83,
   "id": "87f8166a",
   "metadata": {},
   "outputs": [],
   "source": [
    "import pandas as pd\n",
    "import numpy as np\n",
    "import matplotlib.pyplot as plt\n",
    "import seaborn as sns\n",
    "\n",
    "import warnings\n",
    "warnings.filterwarnings('ignore')"
   ]
  },
  {
   "cell_type": "code",
   "execution_count": 84,
   "id": "e1e92298",
   "metadata": {},
   "outputs": [
    {
     "data": {
      "text/html": [
       "<div>\n",
       "<style scoped>\n",
       "    .dataframe tbody tr th:only-of-type {\n",
       "        vertical-align: middle;\n",
       "    }\n",
       "\n",
       "    .dataframe tbody tr th {\n",
       "        vertical-align: top;\n",
       "    }\n",
       "\n",
       "    .dataframe thead th {\n",
       "        text-align: right;\n",
       "    }\n",
       "</style>\n",
       "<table border=\"1\" class=\"dataframe\">\n",
       "  <thead>\n",
       "    <tr style=\"text-align: right;\">\n",
       "      <th></th>\n",
       "      <th>Timestamp</th>\n",
       "      <th>By clicking 'I agree' below, you are indicating that you have read and understood this consent form and agree to participate in this research study. If you are under 18 years old, you confirm that you have obtained parental or guardian consent to participate.</th>\n",
       "      <th>What is your age?</th>\n",
       "      <th>What is your gender?</th>\n",
       "      <th>What is your occupation?</th>\n",
       "      <th>How often do you use the internet?</th>\n",
       "      <th>Which device do you primarily use to access the internet?</th>\n",
       "      <th>What is your main reason for using the internet?</th>\n",
       "      <th>What types of Malaysian web platforms do you frequently visit?</th>\n",
       "      <th>How often do you interact with online shopping on websites?</th>\n",
       "      <th>How often do you interact with reading articles on websites?</th>\n",
       "      <th>How often do you interact with watching videos on websites?</th>\n",
       "      <th>How often do you interact with participating in online discussions on websites?</th>\n",
       "      <th>How often do you interact with social media integration on websites?</th>\n",
       "      <th>How satisfied are you with the overall user experience of Malaysian web platforms? (Rate on a scale of 1-5, where 1 is 'Very Dissatisfied' and 5 is 'Very Satisfied')</th>\n",
       "      <th>How likely are you to recommend Malaysian web platforms to others? (Rate on a scale of 1-5, where 1 is 'Very Unlikely' and 5 is 'Very Likely')</th>\n",
       "      <th>How accessible do you find Malaysian web platforms for people with disabilities? (Rate on a scale of 1-5, where 1 is 'Not Accessible at All' and 5 is 'Very Accessible')</th>\n",
       "      <th>How successful are you at finding what you need on Malaysian web platforms? (Rate on a scale of 1-5, where 1 is 'Never Successful' and 5 is 'Always Successful')</th>\n",
       "      <th>What improvements would you suggest for Malaysian web platforms to enhance your experience?</th>\n",
       "      <th>Are there any additional features you would like to see implemented on Malaysian web platforms?</th>\n",
       "    </tr>\n",
       "  </thead>\n",
       "  <tbody>\n",
       "    <tr>\n",
       "      <th>0</th>\n",
       "      <td>2024/12/24 11:33:49 AM GMT+8</td>\n",
       "      <td>Agree</td>\n",
       "      <td>Under 18</td>\n",
       "      <td>Female</td>\n",
       "      <td>Employed</td>\n",
       "      <td>Several times a month</td>\n",
       "      <td>Laptop</td>\n",
       "      <td>Education</td>\n",
       "      <td>Government services</td>\n",
       "      <td>4</td>\n",
       "      <td>1 (Never)</td>\n",
       "      <td>1 (Never)</td>\n",
       "      <td>3</td>\n",
       "      <td>2</td>\n",
       "      <td>4</td>\n",
       "      <td>4</td>\n",
       "      <td>3</td>\n",
       "      <td>2</td>\n",
       "      <td>NaN</td>\n",
       "      <td>NaN</td>\n",
       "    </tr>\n",
       "    <tr>\n",
       "      <th>1</th>\n",
       "      <td>2024/12/24 11:33:49 AM GMT+8</td>\n",
       "      <td>Agree</td>\n",
       "      <td>25 - 34</td>\n",
       "      <td>Female</td>\n",
       "      <td>Self-employed</td>\n",
       "      <td>Rarely</td>\n",
       "      <td>Laptop</td>\n",
       "      <td>Work</td>\n",
       "      <td>News portals</td>\n",
       "      <td>3</td>\n",
       "      <td>2</td>\n",
       "      <td>3</td>\n",
       "      <td>4</td>\n",
       "      <td>2</td>\n",
       "      <td>3</td>\n",
       "      <td>4</td>\n",
       "      <td>3</td>\n",
       "      <td>3</td>\n",
       "      <td>NaN</td>\n",
       "      <td>NaN</td>\n",
       "    </tr>\n",
       "    <tr>\n",
       "      <th>2</th>\n",
       "      <td>2024/12/24 11:33:49 AM GMT+8</td>\n",
       "      <td>Agree</td>\n",
       "      <td>55 - 64</td>\n",
       "      <td>Female</td>\n",
       "      <td>Retired</td>\n",
       "      <td>Once a month</td>\n",
       "      <td>Smartphone</td>\n",
       "      <td>Social Media</td>\n",
       "      <td>Government services</td>\n",
       "      <td>4</td>\n",
       "      <td>2</td>\n",
       "      <td>3</td>\n",
       "      <td>2</td>\n",
       "      <td>2</td>\n",
       "      <td>4</td>\n",
       "      <td>4</td>\n",
       "      <td>4</td>\n",
       "      <td>1</td>\n",
       "      <td>NaN</td>\n",
       "      <td>NaN</td>\n",
       "    </tr>\n",
       "    <tr>\n",
       "      <th>3</th>\n",
       "      <td>2024/12/24 11:33:49 AM GMT+8</td>\n",
       "      <td>Agree</td>\n",
       "      <td>55 - 64</td>\n",
       "      <td>Female</td>\n",
       "      <td>Unemployed</td>\n",
       "      <td>Rarely</td>\n",
       "      <td>Tablet</td>\n",
       "      <td>Social Media</td>\n",
       "      <td>E-commerce</td>\n",
       "      <td>3</td>\n",
       "      <td>2</td>\n",
       "      <td>2</td>\n",
       "      <td>5</td>\n",
       "      <td>3</td>\n",
       "      <td>1</td>\n",
       "      <td>4</td>\n",
       "      <td>4</td>\n",
       "      <td>5</td>\n",
       "      <td>NaN</td>\n",
       "      <td>NaN</td>\n",
       "    </tr>\n",
       "    <tr>\n",
       "      <th>4</th>\n",
       "      <td>2024/12/24 11:33:49 AM GMT+8</td>\n",
       "      <td>Agree</td>\n",
       "      <td>65 and above</td>\n",
       "      <td>Male</td>\n",
       "      <td>Unemployed</td>\n",
       "      <td>Several times a month</td>\n",
       "      <td>Laptop</td>\n",
       "      <td>Social Media</td>\n",
       "      <td>Educational sites</td>\n",
       "      <td>2</td>\n",
       "      <td>2</td>\n",
       "      <td>2</td>\n",
       "      <td>5</td>\n",
       "      <td>2</td>\n",
       "      <td>4</td>\n",
       "      <td>3</td>\n",
       "      <td>3</td>\n",
       "      <td>2</td>\n",
       "      <td>NaN</td>\n",
       "      <td>NaN</td>\n",
       "    </tr>\n",
       "  </tbody>\n",
       "</table>\n",
       "</div>"
      ],
      "text/plain": [
       "                      Timestamp  \\\n",
       "0  2024/12/24 11:33:49 AM GMT+8   \n",
       "1  2024/12/24 11:33:49 AM GMT+8   \n",
       "2  2024/12/24 11:33:49 AM GMT+8   \n",
       "3  2024/12/24 11:33:49 AM GMT+8   \n",
       "4  2024/12/24 11:33:49 AM GMT+8   \n",
       "\n",
       "  By clicking 'I agree' below, you are indicating that you have read and understood this consent form and agree to participate in this research study. If you are under 18 years old, you confirm that you have obtained parental or guardian consent to participate.   \\\n",
       "0                                              Agree                                                                                                                                                                                                                     \n",
       "1                                              Agree                                                                                                                                                                                                                     \n",
       "2                                              Agree                                                                                                                                                                                                                     \n",
       "3                                              Agree                                                                                                                                                                                                                     \n",
       "4                                              Agree                                                                                                                                                                                                                     \n",
       "\n",
       "  What is your age? What is your gender? What is your occupation?  \\\n",
       "0          Under 18               Female                 Employed   \n",
       "1           25 - 34               Female            Self-employed   \n",
       "2           55 - 64               Female                  Retired   \n",
       "3           55 - 64               Female               Unemployed   \n",
       "4      65 and above                 Male               Unemployed   \n",
       "\n",
       "  How often do you use the internet?  \\\n",
       "0              Several times a month   \n",
       "1                             Rarely   \n",
       "2                       Once a month   \n",
       "3                             Rarely   \n",
       "4              Several times a month   \n",
       "\n",
       "  Which device do you primarily use to access the internet?  \\\n",
       "0                                             Laptop          \n",
       "1                                             Laptop          \n",
       "2                                         Smartphone          \n",
       "3                                             Tablet          \n",
       "4                                             Laptop          \n",
       "\n",
       "  What is your main reason for using the internet?  \\\n",
       "0                                        Education   \n",
       "1                                             Work   \n",
       "2                                     Social Media   \n",
       "3                                     Social Media   \n",
       "4                                     Social Media   \n",
       "\n",
       "  What types of Malaysian web platforms do you frequently visit?  \\\n",
       "0                                Government services               \n",
       "1                                       News portals               \n",
       "2                                Government services               \n",
       "3                                         E-commerce               \n",
       "4                                  Educational sites               \n",
       "\n",
       "  How often do you interact with online shopping on websites?  \\\n",
       "0                                                  4            \n",
       "1                                                  3            \n",
       "2                                                  4            \n",
       "3                                                  3            \n",
       "4                                                  2            \n",
       "\n",
       "  How often do you interact with reading articles on websites?  \\\n",
       "0                                          1 (Never)             \n",
       "1                                                  2             \n",
       "2                                                  2             \n",
       "3                                                  2             \n",
       "4                                                  2             \n",
       "\n",
       "  How often do you interact with watching videos on websites?  \\\n",
       "0                                          1 (Never)            \n",
       "1                                                  3            \n",
       "2                                                  3            \n",
       "3                                                  2            \n",
       "4                                                  2            \n",
       "\n",
       "   How often do you interact with participating in online discussions on websites?  \\\n",
       "0                                                  3                                 \n",
       "1                                                  4                                 \n",
       "2                                                  2                                 \n",
       "3                                                  5                                 \n",
       "4                                                  5                                 \n",
       "\n",
       "  How often do you interact with social media integration on websites?  \\\n",
       "0                                                  2                     \n",
       "1                                                  2                     \n",
       "2                                                  2                     \n",
       "3                                                  3                     \n",
       "4                                                  2                     \n",
       "\n",
       "   How satisfied are you with the overall user experience of Malaysian web platforms? (Rate on a scale of 1-5, where 1 is 'Very Dissatisfied' and 5 is 'Very Satisfied')   \\\n",
       "0                                                  4                                                                                                                        \n",
       "1                                                  3                                                                                                                        \n",
       "2                                                  4                                                                                                                        \n",
       "3                                                  1                                                                                                                        \n",
       "4                                                  4                                                                                                                        \n",
       "\n",
       "   How likely are you to recommend Malaysian web platforms to others? (Rate on a scale of 1-5, where 1 is 'Very Unlikely' and 5 is 'Very Likely')  \\\n",
       "0                                                  4                                                                                                \n",
       "1                                                  4                                                                                                \n",
       "2                                                  4                                                                                                \n",
       "3                                                  4                                                                                                \n",
       "4                                                  3                                                                                                \n",
       "\n",
       "   How accessible do you find Malaysian web platforms for people with disabilities? (Rate on a scale of 1-5, where 1 is 'Not Accessible at All' and 5 is 'Very Accessible')  \\\n",
       "0                                                  3                                                                                                                          \n",
       "1                                                  3                                                                                                                          \n",
       "2                                                  4                                                                                                                          \n",
       "3                                                  4                                                                                                                          \n",
       "4                                                  3                                                                                                                          \n",
       "\n",
       "   How successful are you at finding what you need on Malaysian web platforms? (Rate on a scale of 1-5, where 1 is 'Never Successful' and 5 is 'Always Successful')  \\\n",
       "0                                                  2                                                                                                                  \n",
       "1                                                  3                                                                                                                  \n",
       "2                                                  1                                                                                                                  \n",
       "3                                                  5                                                                                                                  \n",
       "4                                                  2                                                                                                                  \n",
       "\n",
       "  What improvements would you suggest for Malaysian web platforms to enhance your experience?   \\\n",
       "0                                                NaN                                             \n",
       "1                                                NaN                                             \n",
       "2                                                NaN                                             \n",
       "3                                                NaN                                             \n",
       "4                                                NaN                                             \n",
       "\n",
       "  Are there any additional features you would like to see implemented on Malaysian web platforms?  \n",
       "0                                                NaN                                               \n",
       "1                                                NaN                                               \n",
       "2                                                NaN                                               \n",
       "3                                                NaN                                               \n",
       "4                                                NaN                                               "
      ]
     },
     "execution_count": 84,
     "metadata": {},
     "output_type": "execute_result"
    }
   ],
   "source": [
    "data = pd.read_excel('UserEngagementSurvey1.xlsx')\n",
    "data.head()"
   ]
  },
  {
   "cell_type": "code",
   "execution_count": 85,
   "id": "50042c93",
   "metadata": {},
   "outputs": [
    {
     "data": {
      "text/html": [
       "<div>\n",
       "<style scoped>\n",
       "    .dataframe tbody tr th:only-of-type {\n",
       "        vertical-align: middle;\n",
       "    }\n",
       "\n",
       "    .dataframe tbody tr th {\n",
       "        vertical-align: top;\n",
       "    }\n",
       "\n",
       "    .dataframe thead th {\n",
       "        text-align: right;\n",
       "    }\n",
       "</style>\n",
       "<table border=\"1\" class=\"dataframe\">\n",
       "  <thead>\n",
       "    <tr style=\"text-align: right;\">\n",
       "      <th></th>\n",
       "      <th>What is your age?</th>\n",
       "      <th>What is your gender?</th>\n",
       "      <th>What is your occupation?</th>\n",
       "      <th>How often do you use the internet?</th>\n",
       "      <th>Which device do you primarily use to access the internet?</th>\n",
       "      <th>What is your main reason for using the internet?</th>\n",
       "      <th>What types of Malaysian web platforms do you frequently visit?</th>\n",
       "      <th>How often do you interact with online shopping on websites?</th>\n",
       "      <th>How often do you interact with reading articles on websites?</th>\n",
       "      <th>How often do you interact with watching videos on websites?</th>\n",
       "      <th>How often do you interact with participating in online discussions on websites?</th>\n",
       "      <th>How often do you interact with social media integration on websites?</th>\n",
       "      <th>How satisfied are you with the overall user experience of Malaysian web platforms? (Rate on a scale of 1-5, where 1 is 'Very Dissatisfied' and 5 is 'Very Satisfied')</th>\n",
       "      <th>How likely are you to recommend Malaysian web platforms to others? (Rate on a scale of 1-5, where 1 is 'Very Unlikely' and 5 is 'Very Likely')</th>\n",
       "      <th>How accessible do you find Malaysian web platforms for people with disabilities? (Rate on a scale of 1-5, where 1 is 'Not Accessible at All' and 5 is 'Very Accessible')</th>\n",
       "      <th>How successful are you at finding what you need on Malaysian web platforms? (Rate on a scale of 1-5, where 1 is 'Never Successful' and 5 is 'Always Successful')</th>\n",
       "      <th>What improvements would you suggest for Malaysian web platforms to enhance your experience?</th>\n",
       "      <th>Are there any additional features you would like to see implemented on Malaysian web platforms?</th>\n",
       "    </tr>\n",
       "  </thead>\n",
       "  <tbody>\n",
       "    <tr>\n",
       "      <th>0</th>\n",
       "      <td>Under 18</td>\n",
       "      <td>Female</td>\n",
       "      <td>Employed</td>\n",
       "      <td>Several times a month</td>\n",
       "      <td>Laptop</td>\n",
       "      <td>Education</td>\n",
       "      <td>Government services</td>\n",
       "      <td>4</td>\n",
       "      <td>1 (Never)</td>\n",
       "      <td>1 (Never)</td>\n",
       "      <td>3</td>\n",
       "      <td>2</td>\n",
       "      <td>4</td>\n",
       "      <td>4</td>\n",
       "      <td>3</td>\n",
       "      <td>2</td>\n",
       "      <td>NaN</td>\n",
       "      <td>NaN</td>\n",
       "    </tr>\n",
       "    <tr>\n",
       "      <th>1</th>\n",
       "      <td>25 - 34</td>\n",
       "      <td>Female</td>\n",
       "      <td>Self-employed</td>\n",
       "      <td>Rarely</td>\n",
       "      <td>Laptop</td>\n",
       "      <td>Work</td>\n",
       "      <td>News portals</td>\n",
       "      <td>3</td>\n",
       "      <td>2</td>\n",
       "      <td>3</td>\n",
       "      <td>4</td>\n",
       "      <td>2</td>\n",
       "      <td>3</td>\n",
       "      <td>4</td>\n",
       "      <td>3</td>\n",
       "      <td>3</td>\n",
       "      <td>NaN</td>\n",
       "      <td>NaN</td>\n",
       "    </tr>\n",
       "    <tr>\n",
       "      <th>2</th>\n",
       "      <td>55 - 64</td>\n",
       "      <td>Female</td>\n",
       "      <td>Retired</td>\n",
       "      <td>Once a month</td>\n",
       "      <td>Smartphone</td>\n",
       "      <td>Social Media</td>\n",
       "      <td>Government services</td>\n",
       "      <td>4</td>\n",
       "      <td>2</td>\n",
       "      <td>3</td>\n",
       "      <td>2</td>\n",
       "      <td>2</td>\n",
       "      <td>4</td>\n",
       "      <td>4</td>\n",
       "      <td>4</td>\n",
       "      <td>1</td>\n",
       "      <td>NaN</td>\n",
       "      <td>NaN</td>\n",
       "    </tr>\n",
       "    <tr>\n",
       "      <th>3</th>\n",
       "      <td>55 - 64</td>\n",
       "      <td>Female</td>\n",
       "      <td>Unemployed</td>\n",
       "      <td>Rarely</td>\n",
       "      <td>Tablet</td>\n",
       "      <td>Social Media</td>\n",
       "      <td>E-commerce</td>\n",
       "      <td>3</td>\n",
       "      <td>2</td>\n",
       "      <td>2</td>\n",
       "      <td>5</td>\n",
       "      <td>3</td>\n",
       "      <td>1</td>\n",
       "      <td>4</td>\n",
       "      <td>4</td>\n",
       "      <td>5</td>\n",
       "      <td>NaN</td>\n",
       "      <td>NaN</td>\n",
       "    </tr>\n",
       "    <tr>\n",
       "      <th>4</th>\n",
       "      <td>65 and above</td>\n",
       "      <td>Male</td>\n",
       "      <td>Unemployed</td>\n",
       "      <td>Several times a month</td>\n",
       "      <td>Laptop</td>\n",
       "      <td>Social Media</td>\n",
       "      <td>Educational sites</td>\n",
       "      <td>2</td>\n",
       "      <td>2</td>\n",
       "      <td>2</td>\n",
       "      <td>5</td>\n",
       "      <td>2</td>\n",
       "      <td>4</td>\n",
       "      <td>3</td>\n",
       "      <td>3</td>\n",
       "      <td>2</td>\n",
       "      <td>NaN</td>\n",
       "      <td>NaN</td>\n",
       "    </tr>\n",
       "  </tbody>\n",
       "</table>\n",
       "</div>"
      ],
      "text/plain": [
       "  What is your age? What is your gender? What is your occupation?  \\\n",
       "0          Under 18               Female                 Employed   \n",
       "1           25 - 34               Female            Self-employed   \n",
       "2           55 - 64               Female                  Retired   \n",
       "3           55 - 64               Female               Unemployed   \n",
       "4      65 and above                 Male               Unemployed   \n",
       "\n",
       "  How often do you use the internet?  \\\n",
       "0              Several times a month   \n",
       "1                             Rarely   \n",
       "2                       Once a month   \n",
       "3                             Rarely   \n",
       "4              Several times a month   \n",
       "\n",
       "  Which device do you primarily use to access the internet?  \\\n",
       "0                                             Laptop          \n",
       "1                                             Laptop          \n",
       "2                                         Smartphone          \n",
       "3                                             Tablet          \n",
       "4                                             Laptop          \n",
       "\n",
       "  What is your main reason for using the internet?  \\\n",
       "0                                        Education   \n",
       "1                                             Work   \n",
       "2                                     Social Media   \n",
       "3                                     Social Media   \n",
       "4                                     Social Media   \n",
       "\n",
       "  What types of Malaysian web platforms do you frequently visit?  \\\n",
       "0                                Government services               \n",
       "1                                       News portals               \n",
       "2                                Government services               \n",
       "3                                         E-commerce               \n",
       "4                                  Educational sites               \n",
       "\n",
       "  How often do you interact with online shopping on websites?  \\\n",
       "0                                                  4            \n",
       "1                                                  3            \n",
       "2                                                  4            \n",
       "3                                                  3            \n",
       "4                                                  2            \n",
       "\n",
       "  How often do you interact with reading articles on websites?  \\\n",
       "0                                          1 (Never)             \n",
       "1                                                  2             \n",
       "2                                                  2             \n",
       "3                                                  2             \n",
       "4                                                  2             \n",
       "\n",
       "  How often do you interact with watching videos on websites?  \\\n",
       "0                                          1 (Never)            \n",
       "1                                                  3            \n",
       "2                                                  3            \n",
       "3                                                  2            \n",
       "4                                                  2            \n",
       "\n",
       "   How often do you interact with participating in online discussions on websites?  \\\n",
       "0                                                  3                                 \n",
       "1                                                  4                                 \n",
       "2                                                  2                                 \n",
       "3                                                  5                                 \n",
       "4                                                  5                                 \n",
       "\n",
       "  How often do you interact with social media integration on websites?  \\\n",
       "0                                                  2                     \n",
       "1                                                  2                     \n",
       "2                                                  2                     \n",
       "3                                                  3                     \n",
       "4                                                  2                     \n",
       "\n",
       "   How satisfied are you with the overall user experience of Malaysian web platforms? (Rate on a scale of 1-5, where 1 is 'Very Dissatisfied' and 5 is 'Very Satisfied')   \\\n",
       "0                                                  4                                                                                                                        \n",
       "1                                                  3                                                                                                                        \n",
       "2                                                  4                                                                                                                        \n",
       "3                                                  1                                                                                                                        \n",
       "4                                                  4                                                                                                                        \n",
       "\n",
       "   How likely are you to recommend Malaysian web platforms to others? (Rate on a scale of 1-5, where 1 is 'Very Unlikely' and 5 is 'Very Likely')  \\\n",
       "0                                                  4                                                                                                \n",
       "1                                                  4                                                                                                \n",
       "2                                                  4                                                                                                \n",
       "3                                                  4                                                                                                \n",
       "4                                                  3                                                                                                \n",
       "\n",
       "   How accessible do you find Malaysian web platforms for people with disabilities? (Rate on a scale of 1-5, where 1 is 'Not Accessible at All' and 5 is 'Very Accessible')  \\\n",
       "0                                                  3                                                                                                                          \n",
       "1                                                  3                                                                                                                          \n",
       "2                                                  4                                                                                                                          \n",
       "3                                                  4                                                                                                                          \n",
       "4                                                  3                                                                                                                          \n",
       "\n",
       "   How successful are you at finding what you need on Malaysian web platforms? (Rate on a scale of 1-5, where 1 is 'Never Successful' and 5 is 'Always Successful')  \\\n",
       "0                                                  2                                                                                                                  \n",
       "1                                                  3                                                                                                                  \n",
       "2                                                  1                                                                                                                  \n",
       "3                                                  5                                                                                                                  \n",
       "4                                                  2                                                                                                                  \n",
       "\n",
       "  What improvements would you suggest for Malaysian web platforms to enhance your experience?   \\\n",
       "0                                                NaN                                             \n",
       "1                                                NaN                                             \n",
       "2                                                NaN                                             \n",
       "3                                                NaN                                             \n",
       "4                                                NaN                                             \n",
       "\n",
       "  Are there any additional features you would like to see implemented on Malaysian web platforms?  \n",
       "0                                                NaN                                               \n",
       "1                                                NaN                                               \n",
       "2                                                NaN                                               \n",
       "3                                                NaN                                               \n",
       "4                                                NaN                                               "
      ]
     },
     "execution_count": 85,
     "metadata": {},
     "output_type": "execute_result"
    }
   ],
   "source": [
    "# Data Cleaning And Preparation\n",
    "\n",
    "# Dropping columns by index positions\n",
    "columns_to_drop = [0, 1]  # Index positions of 'Timestamp' and 'Terms Condition Agree'\n",
    "data = data.drop(data.columns[columns_to_drop], axis=1)\n",
    "\n",
    "data.head()"
   ]
  },
  {
   "cell_type": "code",
   "execution_count": 86,
   "id": "603c9de7",
   "metadata": {},
   "outputs": [
    {
     "data": {
      "text/plain": [
       "Index(['What is your age?', 'What is your gender?', 'What is your occupation?',\n",
       "       'How often do you use the internet?',\n",
       "       'Which device do you primarily use to access the internet?',\n",
       "       'What is your main reason for using the internet?',\n",
       "       'What types of Malaysian web platforms do you frequently visit?',\n",
       "       'How often do you interact with online shopping on websites?',\n",
       "       'How often do you interact with reading articles on websites?',\n",
       "       'How often do you interact with watching videos on websites?',\n",
       "       'How often do you interact with participating in online discussions on websites?',\n",
       "       'How often do you interact with social media integration on websites?',\n",
       "       'How satisfied are you with the overall user experience of Malaysian web platforms? (Rate on a scale of 1-5, where 1 is 'Very Dissatisfied' and 5 is 'Very Satisfied') ',\n",
       "       'How likely are you to recommend Malaysian web platforms to others? (Rate on a scale of 1-5, where 1 is 'Very Unlikely' and 5 is 'Very Likely')',\n",
       "       'How accessible do you find Malaysian web platforms for people with disabilities? (Rate on a scale of 1-5, where 1 is 'Not Accessible at All' and 5 is 'Very Accessible')',\n",
       "       'How successful are you at finding what you need on Malaysian web platforms? (Rate on a scale of 1-5, where 1 is 'Never Successful' and 5 is 'Always Successful')',\n",
       "       'What improvements would you suggest for Malaysian web platforms to enhance your experience? ',\n",
       "       'Are there any additional features you would like to see implemented on Malaysian web platforms?'],\n",
       "      dtype='object')"
      ]
     },
     "execution_count": 86,
     "metadata": {},
     "output_type": "execute_result"
    }
   ],
   "source": [
    "#changing coulmn names \n",
    "data.columns"
   ]
  },
  {
   "cell_type": "code",
   "execution_count": 87,
   "id": "3039e359",
   "metadata": {},
   "outputs": [
    {
     "data": {
      "text/html": [
       "<div>\n",
       "<style scoped>\n",
       "    .dataframe tbody tr th:only-of-type {\n",
       "        vertical-align: middle;\n",
       "    }\n",
       "\n",
       "    .dataframe tbody tr th {\n",
       "        vertical-align: top;\n",
       "    }\n",
       "\n",
       "    .dataframe thead th {\n",
       "        text-align: right;\n",
       "    }\n",
       "</style>\n",
       "<table border=\"1\" class=\"dataframe\">\n",
       "  <thead>\n",
       "    <tr style=\"text-align: right;\">\n",
       "      <th></th>\n",
       "      <th>age</th>\n",
       "      <th>gender</th>\n",
       "      <th>occupation</th>\n",
       "      <th>internet_usage</th>\n",
       "      <th>device</th>\n",
       "      <th>reason</th>\n",
       "      <th>webplatform_types</th>\n",
       "      <th>for_online_shopping</th>\n",
       "      <th>for_reading_articles</th>\n",
       "      <th>for_watching_videos</th>\n",
       "      <th>for_online_discussions</th>\n",
       "      <th>social_media_integration</th>\n",
       "      <th>overall_experience</th>\n",
       "      <th>will_recommend</th>\n",
       "      <th>accessiblity_for_disable</th>\n",
       "      <th>rating_for_finding_needs</th>\n",
       "      <th>improvements</th>\n",
       "      <th>additional_features</th>\n",
       "    </tr>\n",
       "  </thead>\n",
       "  <tbody>\n",
       "    <tr>\n",
       "      <th>0</th>\n",
       "      <td>Under 18</td>\n",
       "      <td>Female</td>\n",
       "      <td>Employed</td>\n",
       "      <td>Several times a month</td>\n",
       "      <td>Laptop</td>\n",
       "      <td>Education</td>\n",
       "      <td>Government services</td>\n",
       "      <td>4</td>\n",
       "      <td>1 (Never)</td>\n",
       "      <td>1 (Never)</td>\n",
       "      <td>3</td>\n",
       "      <td>2</td>\n",
       "      <td>4</td>\n",
       "      <td>4</td>\n",
       "      <td>3</td>\n",
       "      <td>2</td>\n",
       "      <td>NaN</td>\n",
       "      <td>NaN</td>\n",
       "    </tr>\n",
       "    <tr>\n",
       "      <th>1</th>\n",
       "      <td>25 - 34</td>\n",
       "      <td>Female</td>\n",
       "      <td>Self-employed</td>\n",
       "      <td>Rarely</td>\n",
       "      <td>Laptop</td>\n",
       "      <td>Work</td>\n",
       "      <td>News portals</td>\n",
       "      <td>3</td>\n",
       "      <td>2</td>\n",
       "      <td>3</td>\n",
       "      <td>4</td>\n",
       "      <td>2</td>\n",
       "      <td>3</td>\n",
       "      <td>4</td>\n",
       "      <td>3</td>\n",
       "      <td>3</td>\n",
       "      <td>NaN</td>\n",
       "      <td>NaN</td>\n",
       "    </tr>\n",
       "    <tr>\n",
       "      <th>2</th>\n",
       "      <td>55 - 64</td>\n",
       "      <td>Female</td>\n",
       "      <td>Retired</td>\n",
       "      <td>Once a month</td>\n",
       "      <td>Smartphone</td>\n",
       "      <td>Social Media</td>\n",
       "      <td>Government services</td>\n",
       "      <td>4</td>\n",
       "      <td>2</td>\n",
       "      <td>3</td>\n",
       "      <td>2</td>\n",
       "      <td>2</td>\n",
       "      <td>4</td>\n",
       "      <td>4</td>\n",
       "      <td>4</td>\n",
       "      <td>1</td>\n",
       "      <td>NaN</td>\n",
       "      <td>NaN</td>\n",
       "    </tr>\n",
       "    <tr>\n",
       "      <th>3</th>\n",
       "      <td>55 - 64</td>\n",
       "      <td>Female</td>\n",
       "      <td>Unemployed</td>\n",
       "      <td>Rarely</td>\n",
       "      <td>Tablet</td>\n",
       "      <td>Social Media</td>\n",
       "      <td>E-commerce</td>\n",
       "      <td>3</td>\n",
       "      <td>2</td>\n",
       "      <td>2</td>\n",
       "      <td>5</td>\n",
       "      <td>3</td>\n",
       "      <td>1</td>\n",
       "      <td>4</td>\n",
       "      <td>4</td>\n",
       "      <td>5</td>\n",
       "      <td>NaN</td>\n",
       "      <td>NaN</td>\n",
       "    </tr>\n",
       "    <tr>\n",
       "      <th>4</th>\n",
       "      <td>65 and above</td>\n",
       "      <td>Male</td>\n",
       "      <td>Unemployed</td>\n",
       "      <td>Several times a month</td>\n",
       "      <td>Laptop</td>\n",
       "      <td>Social Media</td>\n",
       "      <td>Educational sites</td>\n",
       "      <td>2</td>\n",
       "      <td>2</td>\n",
       "      <td>2</td>\n",
       "      <td>5</td>\n",
       "      <td>2</td>\n",
       "      <td>4</td>\n",
       "      <td>3</td>\n",
       "      <td>3</td>\n",
       "      <td>2</td>\n",
       "      <td>NaN</td>\n",
       "      <td>NaN</td>\n",
       "    </tr>\n",
       "  </tbody>\n",
       "</table>\n",
       "</div>"
      ],
      "text/plain": [
       "            age  gender     occupation         internet_usage      device  \\\n",
       "0      Under 18  Female       Employed  Several times a month      Laptop   \n",
       "1       25 - 34  Female  Self-employed                 Rarely      Laptop   \n",
       "2       55 - 64  Female        Retired           Once a month  Smartphone   \n",
       "3       55 - 64  Female     Unemployed                 Rarely      Tablet   \n",
       "4  65 and above    Male     Unemployed  Several times a month      Laptop   \n",
       "\n",
       "         reason    webplatform_types for_online_shopping for_reading_articles  \\\n",
       "0     Education  Government services                   4            1 (Never)   \n",
       "1          Work         News portals                   3                    2   \n",
       "2  Social Media  Government services                   4                    2   \n",
       "3  Social Media           E-commerce                   3                    2   \n",
       "4  Social Media    Educational sites                   2                    2   \n",
       "\n",
       "  for_watching_videos  for_online_discussions social_media_integration  \\\n",
       "0           1 (Never)                       3                        2   \n",
       "1                   3                       4                        2   \n",
       "2                   3                       2                        2   \n",
       "3                   2                       5                        3   \n",
       "4                   2                       5                        2   \n",
       "\n",
       "   overall_experience  will_recommend  accessiblity_for_disable  \\\n",
       "0                   4               4                         3   \n",
       "1                   3               4                         3   \n",
       "2                   4               4                         4   \n",
       "3                   1               4                         4   \n",
       "4                   4               3                         3   \n",
       "\n",
       "   rating_for_finding_needs improvements additional_features  \n",
       "0                         2          NaN                 NaN  \n",
       "1                         3          NaN                 NaN  \n",
       "2                         1          NaN                 NaN  \n",
       "3                         5          NaN                 NaN  \n",
       "4                         2          NaN                 NaN  "
      ]
     },
     "execution_count": 87,
     "metadata": {},
     "output_type": "execute_result"
    }
   ],
   "source": [
    "data.rename(columns={\n",
    "    'What is your age?': 'age',\n",
    "    'What is your gender?': 'gender',\n",
    "    'What is your occupation?': 'occupation',\n",
    "    'How often do you use the internet?':'internet_usage',\n",
    "    'Which device do you primarily use to access the internet?':'device',\n",
    "    'What is your main reason for using the internet?':'reason',\n",
    "    'What types of Malaysian web platforms do you frequently visit?':'webplatform_types',\n",
    "    'How often do you interact with online shopping on websites?':'for_online_shopping',\n",
    "    'How often do you interact with reading articles on websites?':'for_reading_articles',\n",
    "    'How often do you interact with watching videos on websites?':'for_watching_videos',\n",
    "    'How often do you interact with participating in online discussions on websites?':'for_online_discussions',\n",
    "    'How often do you interact with social media integration on websites?':'social_media_integration',\n",
    "    \"How satisfied are you with the overall user experience of Malaysian web platforms? (Rate on a scale of 1-5, where 1 is 'Very Dissatisfied' and 5 is 'Very Satisfied') \":'overall_experience',\n",
    "    'How likely are you to recommend Malaysian web platforms to others? (Rate on a scale of 1-5, where 1 is \\'Very Unlikely\\' and 5 is \\'Very Likely\\')':'will_recommend',\n",
    "    'How accessible do you find Malaysian web platforms for people with disabilities? (Rate on a scale of 1-5, where 1 is \\'Not Accessible at All\\' and 5 is \\'Very Accessible\\')':'accessiblity_for_disable',\n",
    "    'How successful are you at finding what you need on Malaysian web platforms? (Rate on a scale of 1-5, where 1 is \\'Never Successful\\' and 5 is \\'Always Successful\\')':'rating_for_finding_needs',\n",
    "    \"What improvements would you suggest for Malaysian web platforms to enhance your experience? \":'improvements',\n",
    "    'Are there any additional features you would like to see implemented on Malaysian web platforms?':'additional_features'\n",
    "}, inplace=True)\n",
    "\n",
    "data.head()"
   ]
  },
  {
   "cell_type": "code",
   "execution_count": 88,
   "id": "c7db13e6",
   "metadata": {},
   "outputs": [
    {
     "data": {
      "text/plain": [
       "age\n",
       "25 - 34         31\n",
       "45 - 54         27\n",
       "55 - 64         26\n",
       "18 - 24         20\n",
       "Under 18        18\n",
       "35 - 44         18\n",
       "65 and above    11\n",
       "Name: count, dtype: int64"
      ]
     },
     "execution_count": 88,
     "metadata": {},
     "output_type": "execute_result"
    }
   ],
   "source": [
    "data.age.value_counts()"
   ]
  },
  {
   "cell_type": "code",
   "execution_count": 89,
   "id": "b36cc3f9",
   "metadata": {},
   "outputs": [],
   "source": [
    "data['age'] = data['age'].map({'Under 18': '0-18', '18 - 24': '18-24','25 - 34':'25-34','35 - 44':'35-44',\n",
    "                               '45 - 54':'45-54',\n",
    "                               '55 - 64':'55-64',\n",
    "                              '65 and above':'65-100'})"
   ]
  },
  {
   "cell_type": "code",
   "execution_count": 90,
   "id": "9a5bc8c8",
   "metadata": {},
   "outputs": [
    {
     "data": {
      "text/plain": [
       "age\n",
       "0-18      18\n",
       "18-24     20\n",
       "25-34     31\n",
       "35-44     18\n",
       "45-54     27\n",
       "55-64     26\n",
       "65-100    11\n",
       "Name: count, dtype: int64"
      ]
     },
     "execution_count": 90,
     "metadata": {},
     "output_type": "execute_result"
    }
   ],
   "source": [
    "data.age.value_counts().sort_index()"
   ]
  },
  {
   "cell_type": "code",
   "execution_count": 91,
   "id": "58e2e298",
   "metadata": {},
   "outputs": [
    {
     "data": {
      "text/plain": [
       "for_online_shopping\n",
       "4             42\n",
       "2             38\n",
       "3             36\n",
       "1 (Never)     18\n",
       "5 (Always)    17\n",
       "Name: count, dtype: int64"
      ]
     },
     "execution_count": 91,
     "metadata": {},
     "output_type": "execute_result"
    }
   ],
   "source": [
    "data['for_online_shopping'].value_counts()"
   ]
  },
  {
   "cell_type": "code",
   "execution_count": 92,
   "id": "3d0900f6",
   "metadata": {},
   "outputs": [
    {
     "data": {
      "text/plain": [
       "0      <class 'int'>\n",
       "1      <class 'int'>\n",
       "2      <class 'int'>\n",
       "3      <class 'int'>\n",
       "4      <class 'int'>\n",
       "           ...      \n",
       "146    <class 'int'>\n",
       "147    <class 'str'>\n",
       "148    <class 'int'>\n",
       "149    <class 'str'>\n",
       "150    <class 'int'>\n",
       "Name: for_online_shopping, Length: 151, dtype: object"
      ]
     },
     "execution_count": 92,
     "metadata": {},
     "output_type": "execute_result"
    }
   ],
   "source": [
    "data['for_online_shopping'].map(type)"
   ]
  },
  {
   "cell_type": "code",
   "execution_count": 93,
   "id": "8e6c1b03",
   "metadata": {},
   "outputs": [],
   "source": [
    "data['for_online_shopping'] = data['for_online_shopping'].map({'1 (Never)': 1, 2:2, 3:3, 4:4 , '5 (Always)':5})\n",
    "data['for_reading_articles'] = data['for_reading_articles'].map({'1 (Never)': 1, 2:2, 3:3, 4:4 , '5 (Always)':5})\n",
    "data['for_watching_videos'] = data['for_watching_videos'].map({'1 (Never)': 1, 2:2, 3:3, 4:4 , 5:5})\n",
    "data['social_media_integration'] = data['social_media_integration'].map({'1 (Never)': 1, 2:2, 3:3, 4:4 , 5:5})"
   ]
  },
  {
   "cell_type": "code",
   "execution_count": 94,
   "id": "33cb9d39",
   "metadata": {},
   "outputs": [
    {
     "data": {
      "text/html": [
       "<div>\n",
       "<style scoped>\n",
       "    .dataframe tbody tr th:only-of-type {\n",
       "        vertical-align: middle;\n",
       "    }\n",
       "\n",
       "    .dataframe tbody tr th {\n",
       "        vertical-align: top;\n",
       "    }\n",
       "\n",
       "    .dataframe thead th {\n",
       "        text-align: right;\n",
       "    }\n",
       "</style>\n",
       "<table border=\"1\" class=\"dataframe\">\n",
       "  <thead>\n",
       "    <tr style=\"text-align: right;\">\n",
       "      <th></th>\n",
       "      <th>age</th>\n",
       "      <th>gender</th>\n",
       "      <th>occupation</th>\n",
       "      <th>internet_usage</th>\n",
       "      <th>device</th>\n",
       "      <th>reason</th>\n",
       "      <th>webplatform_types</th>\n",
       "      <th>for_online_shopping</th>\n",
       "      <th>for_reading_articles</th>\n",
       "      <th>for_watching_videos</th>\n",
       "      <th>for_online_discussions</th>\n",
       "      <th>social_media_integration</th>\n",
       "      <th>overall_experience</th>\n",
       "      <th>will_recommend</th>\n",
       "      <th>accessiblity_for_disable</th>\n",
       "      <th>rating_for_finding_needs</th>\n",
       "      <th>improvements</th>\n",
       "      <th>additional_features</th>\n",
       "    </tr>\n",
       "  </thead>\n",
       "  <tbody>\n",
       "    <tr>\n",
       "      <th>0</th>\n",
       "      <td>0-18</td>\n",
       "      <td>Female</td>\n",
       "      <td>Employed</td>\n",
       "      <td>Several times a month</td>\n",
       "      <td>Laptop</td>\n",
       "      <td>Education</td>\n",
       "      <td>Government services</td>\n",
       "      <td>4</td>\n",
       "      <td>1</td>\n",
       "      <td>1</td>\n",
       "      <td>3</td>\n",
       "      <td>2</td>\n",
       "      <td>4</td>\n",
       "      <td>4</td>\n",
       "      <td>3</td>\n",
       "      <td>2</td>\n",
       "      <td>NaN</td>\n",
       "      <td>NaN</td>\n",
       "    </tr>\n",
       "    <tr>\n",
       "      <th>1</th>\n",
       "      <td>25-34</td>\n",
       "      <td>Female</td>\n",
       "      <td>Self-employed</td>\n",
       "      <td>Rarely</td>\n",
       "      <td>Laptop</td>\n",
       "      <td>Work</td>\n",
       "      <td>News portals</td>\n",
       "      <td>3</td>\n",
       "      <td>2</td>\n",
       "      <td>3</td>\n",
       "      <td>4</td>\n",
       "      <td>2</td>\n",
       "      <td>3</td>\n",
       "      <td>4</td>\n",
       "      <td>3</td>\n",
       "      <td>3</td>\n",
       "      <td>NaN</td>\n",
       "      <td>NaN</td>\n",
       "    </tr>\n",
       "    <tr>\n",
       "      <th>2</th>\n",
       "      <td>55-64</td>\n",
       "      <td>Female</td>\n",
       "      <td>Retired</td>\n",
       "      <td>Once a month</td>\n",
       "      <td>Smartphone</td>\n",
       "      <td>Social Media</td>\n",
       "      <td>Government services</td>\n",
       "      <td>4</td>\n",
       "      <td>2</td>\n",
       "      <td>3</td>\n",
       "      <td>2</td>\n",
       "      <td>2</td>\n",
       "      <td>4</td>\n",
       "      <td>4</td>\n",
       "      <td>4</td>\n",
       "      <td>1</td>\n",
       "      <td>NaN</td>\n",
       "      <td>NaN</td>\n",
       "    </tr>\n",
       "    <tr>\n",
       "      <th>3</th>\n",
       "      <td>55-64</td>\n",
       "      <td>Female</td>\n",
       "      <td>Unemployed</td>\n",
       "      <td>Rarely</td>\n",
       "      <td>Tablet</td>\n",
       "      <td>Social Media</td>\n",
       "      <td>E-commerce</td>\n",
       "      <td>3</td>\n",
       "      <td>2</td>\n",
       "      <td>2</td>\n",
       "      <td>5</td>\n",
       "      <td>3</td>\n",
       "      <td>1</td>\n",
       "      <td>4</td>\n",
       "      <td>4</td>\n",
       "      <td>5</td>\n",
       "      <td>NaN</td>\n",
       "      <td>NaN</td>\n",
       "    </tr>\n",
       "    <tr>\n",
       "      <th>4</th>\n",
       "      <td>65-100</td>\n",
       "      <td>Male</td>\n",
       "      <td>Unemployed</td>\n",
       "      <td>Several times a month</td>\n",
       "      <td>Laptop</td>\n",
       "      <td>Social Media</td>\n",
       "      <td>Educational sites</td>\n",
       "      <td>2</td>\n",
       "      <td>2</td>\n",
       "      <td>2</td>\n",
       "      <td>5</td>\n",
       "      <td>2</td>\n",
       "      <td>4</td>\n",
       "      <td>3</td>\n",
       "      <td>3</td>\n",
       "      <td>2</td>\n",
       "      <td>NaN</td>\n",
       "      <td>NaN</td>\n",
       "    </tr>\n",
       "  </tbody>\n",
       "</table>\n",
       "</div>"
      ],
      "text/plain": [
       "      age  gender     occupation         internet_usage      device  \\\n",
       "0    0-18  Female       Employed  Several times a month      Laptop   \n",
       "1   25-34  Female  Self-employed                 Rarely      Laptop   \n",
       "2   55-64  Female        Retired           Once a month  Smartphone   \n",
       "3   55-64  Female     Unemployed                 Rarely      Tablet   \n",
       "4  65-100    Male     Unemployed  Several times a month      Laptop   \n",
       "\n",
       "         reason    webplatform_types  for_online_shopping  \\\n",
       "0     Education  Government services                    4   \n",
       "1          Work         News portals                    3   \n",
       "2  Social Media  Government services                    4   \n",
       "3  Social Media           E-commerce                    3   \n",
       "4  Social Media    Educational sites                    2   \n",
       "\n",
       "   for_reading_articles  for_watching_videos  for_online_discussions  \\\n",
       "0                     1                    1                       3   \n",
       "1                     2                    3                       4   \n",
       "2                     2                    3                       2   \n",
       "3                     2                    2                       5   \n",
       "4                     2                    2                       5   \n",
       "\n",
       "   social_media_integration  overall_experience  will_recommend  \\\n",
       "0                         2                   4               4   \n",
       "1                         2                   3               4   \n",
       "2                         2                   4               4   \n",
       "3                         3                   1               4   \n",
       "4                         2                   4               3   \n",
       "\n",
       "   accessiblity_for_disable  rating_for_finding_needs improvements  \\\n",
       "0                         3                         2          NaN   \n",
       "1                         3                         3          NaN   \n",
       "2                         4                         1          NaN   \n",
       "3                         4                         5          NaN   \n",
       "4                         3                         2          NaN   \n",
       "\n",
       "  additional_features  \n",
       "0                 NaN  \n",
       "1                 NaN  \n",
       "2                 NaN  \n",
       "3                 NaN  \n",
       "4                 NaN  "
      ]
     },
     "execution_count": 94,
     "metadata": {},
     "output_type": "execute_result"
    }
   ],
   "source": [
    "data.head()"
   ]
  },
  {
   "cell_type": "code",
   "execution_count": 95,
   "id": "4cc8bac9",
   "metadata": {},
   "outputs": [
    {
     "data": {
      "text/plain": [
       "additional_features         25.827815\n",
       "improvements                25.827815\n",
       "gender                       0.000000\n",
       "rating_for_finding_needs     0.000000\n",
       "accessiblity_for_disable     0.000000\n",
       "will_recommend               0.000000\n",
       "overall_experience           0.000000\n",
       "social_media_integration     0.000000\n",
       "for_online_discussions       0.000000\n",
       "age                          0.000000\n",
       "for_reading_articles         0.000000\n",
       "for_online_shopping          0.000000\n",
       "webplatform_types            0.000000\n",
       "reason                       0.000000\n",
       "device                       0.000000\n",
       "internet_usage               0.000000\n",
       "occupation                   0.000000\n",
       "for_watching_videos          0.000000\n",
       "dtype: float64"
      ]
     },
     "execution_count": 95,
     "metadata": {},
     "output_type": "execute_result"
    }
   ],
   "source": [
    "# Dealing With Missing Data\n",
    "# Sorting Percentage Of Null Values In Each Column\n",
    "(data.isnull().sum()/len(data)*100).sort_values(ascending = False)"
   ]
  },
  {
   "cell_type": "code",
   "execution_count": 96,
   "id": "78d2e9c0",
   "metadata": {},
   "outputs": [],
   "source": [
    "# As you can see we are getting lots of null values in additional_features and in improvements \n",
    "# let's get rid of it\n",
    "data['additional_features'].fillna(value='Not Specified',inplace=True)\n",
    "data['improvements'].fillna(value='Not Specified',inplace=True)"
   ]
  },
  {
   "cell_type": "code",
   "execution_count": 97,
   "id": "b43ece3a",
   "metadata": {},
   "outputs": [
    {
     "data": {
      "text/plain": [
       "age                         0\n",
       "gender                      0\n",
       "occupation                  0\n",
       "internet_usage              0\n",
       "device                      0\n",
       "reason                      0\n",
       "webplatform_types           0\n",
       "for_online_shopping         0\n",
       "for_reading_articles        0\n",
       "for_watching_videos         0\n",
       "for_online_discussions      0\n",
       "social_media_integration    0\n",
       "overall_experience          0\n",
       "will_recommend              0\n",
       "accessiblity_for_disable    0\n",
       "rating_for_finding_needs    0\n",
       "improvements                0\n",
       "additional_features         0\n",
       "dtype: int64"
      ]
     },
     "execution_count": 97,
     "metadata": {},
     "output_type": "execute_result"
    }
   ],
   "source": [
    "data.isnull().sum()"
   ]
  },
  {
   "cell_type": "code",
   "execution_count": 98,
   "id": "4c552394",
   "metadata": {},
   "outputs": [
    {
     "data": {
      "image/png": "[encoded data removed]",
      "text/plain": [
       "<Figure size 640x480 with 1 Axes>"
      ]
     },
     "metadata": {},
     "output_type": "display_data"
    }
   ],
   "source": [
    "# Data analysis using Data Visualization\n",
    "\n",
    "# Responses based on age\n",
    "age = data['age'].value_counts(ascending=True)\n",
    "ax = sns.barplot(x=age.index, y=age.values, order=age.index) \n",
    "ax.set(xlabel='AGE', yticks=[], title='Responses based on age', frame_on=False) \n",
    "ax.tick_params(length=0)                              \n",
    "ax.bar_label(ax.containers[0])\n",
    "plt.show()"
   ]
  },
  {
   "cell_type": "code",
   "execution_count": 99,
   "id": "a2487886",
   "metadata": {},
   "outputs": [
    {
     "data": {
      "image/png": "[encoded data removed]",
      "text/plain": [
       "<Figure size 640x480 with 1 Axes>"
      ]
     },
     "metadata": {},
     "output_type": "display_data"
    }
   ],
   "source": [
    "# Responses based on gender\n",
    "colors = ['#eca9f4', '#70d3fb'] \n",
    "data.groupby('gender').size().plot(kind='pie', colors=colors, autopct='%1.1f%%', startangle=90)\n",
    "plt.title('Responses Based On Gender')\n",
    "plt.show()"
   ]
  },
  {
   "cell_type": "code",
   "execution_count": 100,
   "id": "d708e80b",
   "metadata": {},
   "outputs": [
    {
     "data": {
      "image/png": "[encoded data removed]",
      "text/plain": [
       "<Figure size 640x480 with 1 Axes>"
      ]
     },
     "metadata": {},
     "output_type": "display_data"
    }
   ],
   "source": [
    "# User's Occupation\n",
    "sns.countplot(x='occupation',hue='gender',data=data)\n",
    "plt.title(\"User's Occupation\")\n",
    "plt.show()"
   ]
  },
  {
   "cell_type": "code",
   "execution_count": 101,
   "id": "f56eabe6",
   "metadata": {},
   "outputs": [
    {
     "data": {
      "text/plain": [
       "internet_usage\n",
       "Several times a month    37\n",
       "Once a month             35\n",
       "Once a week              29\n",
       "Several times a week     19\n",
       "Rarely                   17\n",
       "Daily                    14\n",
       "Name: count, dtype: int64"
      ]
     },
     "execution_count": 101,
     "metadata": {},
     "output_type": "execute_result"
    }
   ],
   "source": [
    "# How often user's use the internet\n",
    "data['internet_usage'].value_counts()"
   ]
  },
  {
   "cell_type": "code",
   "execution_count": 117,
   "id": "91582296",
   "metadata": {
    "scrolled": true
   },
   "outputs": [
    {
     "data": {
      "image/png": "[encoded data removed]",
      "text/plain": [
       "<Figure size 640x480 with 1 Axes>"
      ]
     },
     "metadata": {},
     "output_type": "display_data"
    }
   ],
   "source": [
    "sns.countplot(x='internet_usage', data=data, width=0.8)\n",
    "plt.title(\"How often user's use the internet\")\n",
    "plt.xticks(rotation=-60)\n",
    "plt.subplots_adjust(bottom=0.2)\n",
    "plt.show()"
   ]
  },
  {
   "cell_type": "code",
   "execution_count": 103,
   "id": "91d4926a",
   "metadata": {},
   "outputs": [
    {
     "data": {
      "text/plain": [
       "device\n",
       "Laptop        61\n",
       "Tablet        43\n",
       "Desktop       27\n",
       "Smartphone    20\n",
       "Name: count, dtype: int64"
      ]
     },
     "execution_count": 103,
     "metadata": {},
     "output_type": "execute_result"
    }
   ],
   "source": [
    "data['device'].value_counts()"
   ]
  },
  {
   "cell_type": "code",
   "execution_count": 140,
   "id": "5b784711",
   "metadata": {},
   "outputs": [
    {
     "data": {
      "image/png": "[encoded data removed]",
      "text/plain": [
       "<Figure size 640x480 with 1 Axes>"
      ]
     },
     "metadata": {},
     "output_type": "display_data"
    }
   ],
   "source": [
    "# Devices used while using internet\n",
    "colors = ['#2085ec', '#72b4eb','#cea9bc','#8464a0']\n",
    "data.groupby('device').size().plot(kind='pie', colors=colors, autopct='%1.1f%%', startangle=90)\n",
    "plt.title('Devices used while using internet')\n",
    "plt.show()"
   ]
  },
  {
   "cell_type": "code",
   "execution_count": 134,
   "id": "a4e84000",
   "metadata": {},
   "outputs": [
    {
     "data": {
      "image/png": "[encoded data removed]",
      "text/plain": [
       "<Figure size 1000x500 with 5 Axes>"
      ]
     },
     "metadata": {},
     "output_type": "display_data"
    }
   ],
   "source": [
    "fig, axarr = plt.subplots(2, 3, figsize=(10, 5))\n",
    "colors = ['#8174A0', '#4682B4', '#E73879', '#E195AB', '#89A8B2']\n",
    "\n",
    "# Plot graphs\n",
    "data['for_online_shopping'].value_counts().sort_index().plot.bar(ax=axarr[0][0],color=colors[0])\n",
    "axarr[0][0].set_title(\"For Online Shopping\")\n",
    "\n",
    "data['for_reading_articles'].value_counts().sort_index().plot.bar(ax=axarr[0][1],color=colors[1])\n",
    "axarr[0][1].set_title(\"For Reading Articles\")\n",
    "\n",
    "data['for_watching_videos'].value_counts().sort_index().plot.bar(ax=axarr[1][0],color=colors[2])\n",
    "axarr[1][0].set_title(\"For Watching Videos\")\n",
    "\n",
    "data['for_online_discussions'].value_counts().sort_index().plot.bar(ax=axarr[1][1],color=colors[3])\n",
    "axarr[1][1].set_title(\"For Online Discussions\")\n",
    "\n",
    "data['social_media_integration'].value_counts().sort_index().plot.bar(ax=axarr[0][2],color=colors[4])\n",
    "axarr[0][2].set_title(\"social_media_integration\")\n",
    "\n",
    "\n",
    "fig.delaxes(axarr[1][2])  # Remove the last (unused) subplot\n",
    "\n",
    "for ax in axarr.flat:\n",
    "    ax.tick_params(axis='x', rotation=0)# the x axis labels were rotated by default\n",
    "\n",
    "plt.tight_layout()\n",
    "plt.show()\n"
   ]
  },
  {
   "cell_type": "code",
   "execution_count": 106,
   "id": "55a075ee",
   "metadata": {},
   "outputs": [
    {
     "data": {
      "text/plain": [
       "Index(['age', 'gender', 'occupation', 'internet_usage', 'device', 'reason',\n",
       "       'webplatform_types', 'for_online_shopping', 'for_reading_articles',\n",
       "       'for_watching_videos', 'for_online_discussions',\n",
       "       'social_media_integration', 'overall_experience', 'will_recommend',\n",
       "       'accessiblity_for_disable', 'rating_for_finding_needs', 'improvements',\n",
       "       'additional_features'],\n",
       "      dtype='object')"
      ]
     },
     "execution_count": 106,
     "metadata": {},
     "output_type": "execute_result"
    }
   ],
   "source": [
    "data.columns"
   ]
  },
  {
   "cell_type": "code",
   "execution_count": 107,
   "id": "c04af834",
   "metadata": {},
   "outputs": [
    {
     "data": {
      "text/plain": [
       "reason\n",
       "Entertainment           39\n",
       "Social Media            33\n",
       "Education               27\n",
       "News and Information    20\n",
       "Work                    17\n",
       "Shopping                15\n",
       "Name: count, dtype: int64"
      ]
     },
     "execution_count": 107,
     "metadata": {},
     "output_type": "execute_result"
    }
   ],
   "source": [
    "data['reason'].value_counts()"
   ]
  },
  {
   "cell_type": "code",
   "execution_count": 110,
   "id": "b89d2887",
   "metadata": {},
   "outputs": [
    {
     "data": {
      "image/png": "[encoded data removed]",
      "text/plain": [
       "<Figure size 1000x600 with 1 Axes>"
      ]
     },
     "metadata": {},
     "output_type": "display_data"
    }
   ],
   "source": [
    "# reasons\n",
    "custom_colors = ['#d8a6a6', '#a00000', '#a6a6d8']\n",
    "plt.figure(figsize=(10, 6)) \n",
    "ax = sns.countplot(x='reason', hue='gender', data=data, palette=custom_colors)\n",
    "\n",
    "# Add labels on bars\n",
    "for container in ax.containers:\n",
    "    ax.bar_label(container, fontsize=10)\n",
    "\n",
    "plt.title(\"Reasons for Internet Usage\", fontsize=16)\n",
    "plt.xlabel(\"Reason\", fontsize=14)\n",
    "plt.ylabel(\"Count\", fontsize=14)\n",
    "plt.xticks(rotation=45, fontsize=12)  # Rotate x-axis labels for readability\n",
    "plt.tight_layout()\n",
    "\n",
    "\n",
    "\n",
    "plt.show()\n"
   ]
  },
  {
   "cell_type": "code",
   "execution_count": 111,
   "id": "034cf8cc",
   "metadata": {},
   "outputs": [
    {
     "data": {
      "text/plain": [
       "webplatform_types\n",
       "Blogs                  30\n",
       "News portals           27\n",
       "Social media           25\n",
       "Educational sites      24\n",
       "Government services    21\n",
       "E-commerce             12\n",
       "Forums                 12\n",
       "Name: count, dtype: int64"
      ]
     },
     "execution_count": 111,
     "metadata": {},
     "output_type": "execute_result"
    }
   ],
   "source": [
    "data['webplatform_types'].value_counts()"
   ]
  },
  {
   "cell_type": "code",
   "execution_count": 112,
   "id": "676e028c",
   "metadata": {},
   "outputs": [
    {
     "data": {
      "image/png": "[encoded data removed]",
      "text/plain": [
       "<Figure size 1000x600 with 1 Axes>"
      ]
     },
     "metadata": {},
     "output_type": "display_data"
    }
   ],
   "source": [
    "# webplatform_types\n",
    "custom_colors = ['#b8b8b8', '#1a80bb', '#a6a6d8']\n",
    "plt.figure(figsize=(10, 6))\n",
    "ax = sns.countplot(x='webplatform_types', hue='gender', data=data, palette=custom_colors)\n",
    "\n",
    "# Add labels on bars\n",
    "# for p in plot.patches:\n",
    "#     plot.annotate(format(p.get_height(), '.0f'),  # Display integer count\n",
    "#                   (p.get_x() + p.get_width() / 2., p.get_height() + 0.2),  # Position above bar\n",
    "#                   ha='center', fontsize=10)\n",
    "for container in ax.containers:\n",
    "    ax.bar_label(container, fontsize=10)\n",
    "\n",
    "plt.title(\"webplatform_types\", fontsize=16)\n",
    "plt.xlabel(\"webplatform_types\", fontsize=14)\n",
    "plt.ylabel(\"Count\", fontsize=14)\n",
    "plt.xticks(rotation=45, fontsize=12)  \n",
    "plt.tight_layout()\n",
    "\n",
    "\n",
    "\n",
    "plt.show()"
   ]
  },
  {
   "cell_type": "code",
   "execution_count": 124,
   "id": "44d24071",
   "metadata": {},
   "outputs": [
    {
     "data": {
      "image/png": "[encoded data removed]",
      "text/plain": [
       "<Figure size 1000x600 with 1 Axes>"
      ]
     },
     "metadata": {},
     "output_type": "display_data"
    }
   ],
   "source": [
    "# overall_experience\n",
    "custom_colors = ['#9fc8c8','#298c8c', '#a6a6d8']\n",
    "plt.figure(figsize=(10, 6))\n",
    "ax = sns.countplot(x='overall_experience', hue='gender', data=data, palette=custom_colors)\n",
    "\n",
    "for container in ax.containers:\n",
    "    ax.bar_label(container, fontsize=10)\n",
    "\n",
    "plt.title(\"overall_experience\", fontsize=16)\n",
    "plt.xlabel(\"overall_experience\", fontsize=14)\n",
    "plt.ylabel(\"Count\", fontsize=14)  \n",
    "plt.tight_layout()\n",
    "\n",
    "plt.show()"
   ]
  },
  {
   "cell_type": "code",
   "execution_count": 125,
   "id": "36c5961a",
   "metadata": {},
   "outputs": [
    {
     "data": {
      "text/plain": [
       "Index(['age', 'gender', 'occupation', 'internet_usage', 'device', 'reason',\n",
       "       'webplatform_types', 'for_online_shopping', 'for_reading_articles',\n",
       "       'for_watching_videos', 'for_online_discussions',\n",
       "       'social_media_integration', 'overall_experience', 'will_recommend',\n",
       "       'accessiblity_for_disable', 'rating_for_finding_needs', 'improvements',\n",
       "       'additional_features'],\n",
       "      dtype='object')"
      ]
     },
     "execution_count": 125,
     "metadata": {},
     "output_type": "execute_result"
    }
   ],
   "source": [
    "data.columns"
   ]
  },
  {
   "cell_type": "code",
   "execution_count": 133,
   "id": "dc59c48c",
   "metadata": {},
   "outputs": [
    {
     "data": {
      "image/png": "[encoded data removed]",
      "text/plain": [
       "<Figure size 1000x500 with 4 Axes>"
      ]
     },
     "metadata": {},
     "output_type": "display_data"
    }
   ],
   "source": [
    "fig, axarr = plt.subplots(2, 2, figsize=(10, 5))\n",
    "colors = ['#8174A0', '#4682B4', '#E73879', '#E195AB']\n",
    "\n",
    "data['overall_experience'].value_counts().sort_index().plot.bar(ax=axarr[0][0],color=colors[0])\n",
    "axarr[0][0].set_title(\"overall_experience\")\n",
    "\n",
    "data['will_recommend'].value_counts().sort_index().plot.bar(ax=axarr[0][1],color=colors[1])\n",
    "axarr[0][1].set_title(\"will_recommend\")\n",
    "\n",
    "data['accessiblity_for_disable'].value_counts().sort_index().plot.bar(ax=axarr[1][0],color=colors[2])\n",
    "axarr[1][0].set_title(\"accessiblity_for_disable\")\n",
    "\n",
    "data['rating_for_finding_needs'].value_counts().sort_index().plot.bar(ax=axarr[1][1],color=colors[3])\n",
    "axarr[1][1].set_title(\"rating_for_finding_needs\")\n",
    "\n",
    "for ax in axarr.flat:\n",
    "    ax.tick_params(axis='x', rotation=0) # labels were rotated by default\n",
    "\n",
    "plt.subplots_adjust(hspace=1.0)\n",
    "plt.subplots_adjust(wspace=.5)\n",
    "sns.despine()"
   ]
  },
  {
   "cell_type": "code",
   "execution_count": 135,
   "id": "1f116c9c",
   "metadata": {},
   "outputs": [
    {
     "data": {
      "text/plain": [
       "age                         0\n",
       "gender                      0\n",
       "occupation                  0\n",
       "internet_usage              0\n",
       "device                      0\n",
       "reason                      0\n",
       "webplatform_types           0\n",
       "for_online_shopping         0\n",
       "for_reading_articles        0\n",
       "for_watching_videos         0\n",
       "for_online_discussions      0\n",
       "social_media_integration    0\n",
       "overall_experience          0\n",
       "will_recommend              0\n",
       "accessiblity_for_disable    0\n",
       "rating_for_finding_needs    0\n",
       "improvements                0\n",
       "additional_features         0\n",
       "dtype: int64"
      ]
     },
     "execution_count": 135,
     "metadata": {},
     "output_type": "execute_result"
    }
   ],
   "source": [
    "data.isnull().sum()"
   ]
  },
  {
   "cell_type": "code",
   "execution_count": 141,
   "id": "743c8cfb",
   "metadata": {},
   "outputs": [
    {
     "data": {
      "text/plain": [
       "improvements\n",
       "Not Specified                  39\n",
       "Mobile Optimization            23\n",
       "Faster Loading Times           23\n",
       "Better Search Functionality    19\n",
       "Enhanced Data Protection       13\n",
       "Local Customization            13\n",
       "Modern and Clean Design        13\n",
       "Secure Transactions             8\n",
       "Name: count, dtype: int64"
      ]
     },
     "execution_count": 141,
     "metadata": {},
     "output_type": "execute_result"
    }
   ],
   "source": [
    "data['improvements'].value_counts()"
   ]
  },
  {
   "cell_type": "code",
   "execution_count": 158,
   "id": "b1b3726b",
   "metadata": {},
   "outputs": [
    {
     "data": {
      "image/png": "[encoded data removed]",
      "text/plain": [
       "<Figure size 1000x600 with 1 Axes>"
      ]
     },
     "metadata": {},
     "output_type": "display_data"
    }
   ],
   "source": [
    "# improvements\n",
    "custom_colors = ['#9fc8c8','#298c8c', '#a6a6d8']\n",
    "plt.figure(figsize=(10, 6))\n",
    "ax = sns.countplot(x='improvements', hue='gender', data=data, palette=custom_colors)\n",
    "\n",
    "for container in ax.containers:\n",
    "    ax.bar_label(container, fontsize=10)\n",
    "\n",
    "plt.title(\"Improvements\", fontsize=16)\n",
    "plt.xlabel(\"Improvements\", fontsize=14)\n",
    "plt.ylabel(\"Count\", fontsize=14) \n",
    "plt.xticks(rotation=-60, fontsize=10)\n",
    "plt.tight_layout()\n",
    "\n",
    "plt.show()"
   ]
  },
  {
   "cell_type": "code",
   "execution_count": 167,
   "id": "8ae1a480",
   "metadata": {},
   "outputs": [
    {
     "data": {
      "application/vnd.plotly.v1+json": {
       "config": {
        "plotlyServerURL": "https://plot.ly"
       },
       "data": [
        {
         "alignmentgroup": "True",
         "hovertemplate": "gender=Female<br>Improvements=%{x}<br>Count=%{y}<extra></extra>",
         "legendgroup": "Female",
         "marker": {
          "color": "#9fc8c8",
          "pattern": {
           "shape": ""
          }
         },
         "name": "Female",
         "offsetgroup": "Female",
         "orientation": "v",
         "showlegend": true,
         "textposition": "auto",
         "type": "bar",
         "x": [
          "Better Search Functionality",
          "Enhanced Data Protection",
          "Faster Loading Times",
          "Local Customization",
          "Mobile Optimization",
          "Modern and Clean Design",
          "Not Specified",
          "Secure Transactions"
         ],
         "xaxis": "x",
         "y": [
          8,
          4,
          13,
          10,
          16,
          6,
          22,
          5
         ],
         "yaxis": "y"
        },
        {
         "alignmentgroup": "True",
         "hovertemplate": "gender=Male<br>Improvements=%{x}<br>Count=%{y}<extra></extra>",
         "legendgroup": "Male",
         "marker": {
          "color": "#298c8c",
          "pattern": {
           "shape": ""
          }
         },
         "name": "Male",
         "offsetgroup": "Male",
         "orientation": "v",
         "showlegend": true,
         "textposition": "auto",
         "type": "bar",
         "x": [
          "Better Search Functionality",
          "Enhanced Data Protection",
          "Faster Loading Times",
          "Local Customization",
          "Mobile Optimization",
          "Modern and Clean Design",
          "Not Specified",
          "Secure Transactions"
         ],
         "xaxis": "x",
         "y": [
          11,
          9,
          10,
          3,
          7,
          7,
          17,
          3
         ],
         "yaxis": "y"
        }
       ],
       "layout": {
        "barmode": "group",
        "font": {
         "size": 14
        },
        "height": 700,
        "legend": {
         "title": {
          "text": "gender"
         },
         "tracegroupgap": 0
        },
        "template": {
         "data": {
          "bar": [
           {
            "error_x": {
             "color": "#2a3f5f"
            },
            "error_y": {
             "color": "#2a3f5f"
            },
            "marker": {
             "line": {
              "color": "#E5ECF6",
              "width": 0.5
             },
             "pattern": {
              "fillmode": "overlay",
              "size": 10,
              "solidity": 0.2
             }
            },
            "type": "bar"
           }
          ],
          "barpolar": [
           {
            "marker": {
             "line": {
              "color": "#E5ECF6",
              "width": 0.5
             },
             "pattern": {
              "fillmode": "overlay",
              "size": 10,
              "solidity": 0.2
             }
            },
            "type": "barpolar"
           }
          ],
          "carpet": [
           {
            "aaxis": {
             "endlinecolor": "#2a3f5f",
             "gridcolor": "white",
             "linecolor": "white",
             "minorgridcolor": "white",
             "startlinecolor": "#2a3f5f"
            },
            "baxis": {
             "endlinecolor": "#2a3f5f",
             "gridcolor": "white",
             "linecolor": "white",
             "minorgridcolor": "white",
             "startlinecolor": "#2a3f5f"
            },
            "type": "carpet"
           }
          ],
          "choropleth": [
           {
            "colorbar": {
             "outlinewidth": 0,
             "ticks": ""
            },
            "type": "choropleth"
           }
          ],
          "contour": [
           {
            "colorbar": {
             "outlinewidth": 0,
             "ticks": ""
            },
            "colorscale": [
             [
              0,
              "#0d0887"
             ],
             [
              0.1111111111111111,
              "#46039f"
             ],
             [
              0.2222222222222222,
              "#7201a8"
             ],
             [
              0.3333333333333333,
              "#9c179e"
             ],
             [
              0.4444444444444444,
              "#bd3786"
             ],
             [
              0.5555555555555556,
              "#d8576b"
             ],
             [
              0.6666666666666666,
              "#ed7953"
             ],
             [
              0.7777777777777778,
              "#fb9f3a"
             ],
             [
              0.8888888888888888,
              "#fdca26"
             ],
             [
              1,
              "#f0f921"
             ]
            ],
            "type": "contour"
           }
          ],
          "contourcarpet": [
           {
            "colorbar": {
             "outlinewidth": 0,
             "ticks": ""
            },
            "type": "contourcarpet"
           }
          ],
          "heatmap": [
           {
            "colorbar": {
             "outlinewidth": 0,
             "ticks": ""
            },
            "colorscale": [
             [
              0,
              "#0d0887"
             ],
             [
              0.1111111111111111,
              "#46039f"
             ],
             [
              0.2222222222222222,
              "#7201a8"
             ],
             [
              0.3333333333333333,
              "#9c179e"
             ],
             [
              0.4444444444444444,
              "#bd3786"
             ],
             [
              0.5555555555555556,
              "#d8576b"
             ],
             [
              0.6666666666666666,
              "#ed7953"
             ],
             [
              0.7777777777777778,
              "#fb9f3a"
             ],
             [
              0.8888888888888888,
              "#fdca26"
             ],
             [
              1,
              "#f0f921"
             ]
            ],
            "type": "heatmap"
           }
          ],
          "heatmapgl": [
           {
            "colorbar": {
             "outlinewidth": 0,
             "ticks": ""
            },
            "colorscale": [
             [
              0,
              "#0d0887"
             ],
             [
              0.1111111111111111,
              "#46039f"
             ],
             [
              0.2222222222222222,
              "#7201a8"
             ],
             [
              0.3333333333333333,
              "#9c179e"
             ],
             [
              0.4444444444444444,
              "#bd3786"
             ],
             [
              0.5555555555555556,
              "#d8576b"
             ],
             [
              0.6666666666666666,
              "#ed7953"
             ],
             [
              0.7777777777777778,
              "#fb9f3a"
             ],
             [
              0.8888888888888888,
              "#fdca26"
             ],
             [
              1,
              "#f0f921"
             ]
            ],
            "type": "heatmapgl"
           }
          ],
          "histogram": [
           {
            "marker": {
             "pattern": {
              "fillmode": "overlay",
              "size": 10,
              "solidity": 0.2
             }
            },
            "type": "histogram"
           }
          ],
          "histogram2d": [
           {
            "colorbar": {
             "outlinewidth": 0,
             "ticks": ""
            },
            "colorscale": [
             [
              0,
              "#0d0887"
             ],
             [
              0.1111111111111111,
              "#46039f"
             ],
             [
              0.2222222222222222,
              "#7201a8"
             ],
             [
              0.3333333333333333,
              "#9c179e"
             ],
             [
              0.4444444444444444,
              "#bd3786"
             ],
             [
              0.5555555555555556,
              "#d8576b"
             ],
             [
              0.6666666666666666,
              "#ed7953"
             ],
             [
              0.7777777777777778,
              "#fb9f3a"
             ],
             [
              0.8888888888888888,
              "#fdca26"
             ],
             [
              1,
              "#f0f921"
             ]
            ],
            "type": "histogram2d"
           }
          ],
          "histogram2dcontour": [
           {
            "colorbar": {
             "outlinewidth": 0,
             "ticks": ""
            },
            "colorscale": [
             [
              0,
              "#0d0887"
             ],
             [
              0.1111111111111111,
              "#46039f"
             ],
             [
              0.2222222222222222,
              "#7201a8"
             ],
             [
              0.3333333333333333,
              "#9c179e"
             ],
             [
              0.4444444444444444,
              "#bd3786"
             ],
             [
              0.5555555555555556,
              "#d8576b"
             ],
             [
              0.6666666666666666,
              "#ed7953"
             ],
             [
              0.7777777777777778,
              "#fb9f3a"
             ],
             [
              0.8888888888888888,
              "#fdca26"
             ],
             [
              1,
              "#f0f921"
             ]
            ],
            "type": "histogram2dcontour"
           }
          ],
          "mesh3d": [
           {
            "colorbar": {
             "outlinewidth": 0,
             "ticks": ""
            },
            "type": "mesh3d"
           }
          ],
          "parcoords": [
           {
            "line": {
             "colorbar": {
              "outlinewidth": 0,
              "ticks": ""
             }
            },
            "type": "parcoords"
           }
          ],
          "pie": [
           {
            "automargin": true,
            "type": "pie"
           }
          ],
          "scatter": [
           {
            "fillpattern": {
             "fillmode": "overlay",
             "size": 10,
             "solidity": 0.2
            },
            "type": "scatter"
           }
          ],
          "scatter3d": [
           {
            "line": {
             "colorbar": {
              "outlinewidth": 0,
              "ticks": ""
             }
            },
            "marker": {
             "colorbar": {
              "outlinewidth": 0,
              "ticks": ""
             }
            },
            "type": "scatter3d"
           }
          ],
          "scattercarpet": [
           {
            "marker": {
             "colorbar": {
              "outlinewidth": 0,
              "ticks": ""
             }
            },
            "type": "scattercarpet"
           }
          ],
          "scattergeo": [
           {
            "marker": {
             "colorbar": {
              "outlinewidth": 0,
              "ticks": ""
             }
            },
            "type": "scattergeo"
           }
          ],
          "scattergl": [
           {
            "marker": {
             "colorbar": {
              "outlinewidth": 0,
              "ticks": ""
             }
            },
            "type": "scattergl"
           }
          ],
          "scattermapbox": [
           {
            "marker": {
             "colorbar": {
              "outlinewidth": 0,
              "ticks": ""
             }
            },
            "type": "scattermapbox"
           }
          ],
          "scatterpolar": [
           {
            "marker": {
             "colorbar": {
              "outlinewidth": 0,
              "ticks": ""
             }
            },
            "type": "scatterpolar"
           }
          ],
          "scatterpolargl": [
           {
            "marker": {
             "colorbar": {
              "outlinewidth": 0,
              "ticks": ""
             }
            },
            "type": "scatterpolargl"
           }
          ],
          "scatterternary": [
           {
            "marker": {
             "colorbar": {
              "outlinewidth": 0,
              "ticks": ""
             }
            },
            "type": "scatterternary"
           }
          ],
          "surface": [
           {
            "colorbar": {
             "outlinewidth": 0,
             "ticks": ""
            },
            "colorscale": [
             [
              0,
              "#0d0887"
             ],
             [
              0.1111111111111111,
              "#46039f"
             ],
             [
              0.2222222222222222,
              "#7201a8"
             ],
             [
              0.3333333333333333,
              "#9c179e"
             ],
             [
              0.4444444444444444,
              "#bd3786"
             ],
             [
              0.5555555555555556,
              "#d8576b"
             ],
             [
              0.6666666666666666,
              "#ed7953"
             ],
             [
              0.7777777777777778,
              "#fb9f3a"
             ],
             [
              0.8888888888888888,
              "#fdca26"
             ],
             [
              1,
              "#f0f921"
             ]
            ],
            "type": "surface"
           }
          ],
          "table": [
           {
            "cells": {
             "fill": {
              "color": "#EBF0F8"
             },
             "line": {
              "color": "white"
             }
            },
            "header": {
             "fill": {
              "color": "#C8D4E3"
             },
             "line": {
              "color": "white"
             }
            },
            "type": "table"
           }
          ]
         },
         "layout": {
          "annotationdefaults": {
           "arrowcolor": "#2a3f5f",
           "arrowhead": 0,
           "arrowwidth": 1
          },
          "autotypenumbers": "strict",
          "coloraxis": {
           "colorbar": {
            "outlinewidth": 0,
            "ticks": ""
           }
          },
          "colorscale": {
           "diverging": [
            [
             0,
             "#8e0152"
            ],
            [
             0.1,
             "#c51b7d"
            ],
            [
             0.2,
             "#de77ae"
            ],
            [
             0.3,
             "#f1b6da"
            ],
            [
             0.4,
             "#fde0ef"
            ],
            [
             0.5,
             "#f7f7f7"
            ],
            [
             0.6,
             "#e6f5d0"
            ],
            [
             0.7,
             "#b8e186"
            ],
            [
             0.8,
             "#7fbc41"
            ],
            [
             0.9,
             "#4d9221"
            ],
            [
             1,
             "#276419"
            ]
           ],
           "sequential": [
            [
             0,
             "#0d0887"
            ],
            [
             0.1111111111111111,
             "#46039f"
            ],
            [
             0.2222222222222222,
             "#7201a8"
            ],
            [
             0.3333333333333333,
             "#9c179e"
            ],
            [
             0.4444444444444444,
             "#bd3786"
            ],
            [
             0.5555555555555556,
             "#d8576b"
            ],
            [
             0.6666666666666666,
             "#ed7953"
            ],
            [
             0.7777777777777778,
             "#fb9f3a"
            ],
            [
             0.8888888888888888,
             "#fdca26"
            ],
            [
             1,
             "#f0f921"
            ]
           ],
           "sequentialminus": [
            [
             0,
             "#0d0887"
            ],
            [
             0.1111111111111111,
             "#46039f"
            ],
            [
             0.2222222222222222,
             "#7201a8"
            ],
            [
             0.3333333333333333,
             "#9c179e"
            ],
            [
             0.4444444444444444,
             "#bd3786"
            ],
            [
             0.5555555555555556,
             "#d8576b"
            ],
            [
             0.6666666666666666,
             "#ed7953"
            ],
            [
             0.7777777777777778,
             "#fb9f3a"
            ],
            [
             0.8888888888888888,
             "#fdca26"
            ],
            [
             1,
             "#f0f921"
            ]
           ]
          },
          "colorway": [
           "#636efa",
           "#EF553B",
           "#00cc96",
           "#ab63fa",
           "#FFA15A",
           "#19d3f3",
           "#FF6692",
           "#B6E880",
           "#FF97FF",
           "#FECB52"
          ],
          "font": {
           "color": "#2a3f5f"
          },
          "geo": {
           "bgcolor": "white",
           "lakecolor": "white",
           "landcolor": "#E5ECF6",
           "showlakes": true,
           "showland": true,
           "subunitcolor": "white"
          },
          "hoverlabel": {
           "align": "left"
          },
          "hovermode": "closest",
          "mapbox": {
           "style": "light"
          },
          "paper_bgcolor": "white",
          "plot_bgcolor": "#E5ECF6",
          "polar": {
           "angularaxis": {
            "gridcolor": "white",
            "linecolor": "white",
            "ticks": ""
           },
           "bgcolor": "#E5ECF6",
           "radialaxis": {
            "gridcolor": "white",
            "linecolor": "white",
            "ticks": ""
           }
          },
          "scene": {
           "xaxis": {
            "backgroundcolor": "#E5ECF6",
            "gridcolor": "white",
            "gridwidth": 2,
            "linecolor": "white",
            "showbackground": true,
            "ticks": "",
            "zerolinecolor": "white"
           },
           "yaxis": {
            "backgroundcolor": "#E5ECF6",
            "gridcolor": "white",
            "gridwidth": 2,
            "linecolor": "white",
            "showbackground": true,
            "ticks": "",
            "zerolinecolor": "white"
           },
           "zaxis": {
            "backgroundcolor": "#E5ECF6",
            "gridcolor": "white",
            "gridwidth": 2,
            "linecolor": "white",
            "showbackground": true,
            "ticks": "",
            "zerolinecolor": "white"
           }
          },
          "shapedefaults": {
           "line": {
            "color": "#2a3f5f"
           }
          },
          "ternary": {
           "aaxis": {
            "gridcolor": "white",
            "linecolor": "white",
            "ticks": ""
           },
           "baxis": {
            "gridcolor": "white",
            "linecolor": "white",
            "ticks": ""
           },
           "bgcolor": "#E5ECF6",
           "caxis": {
            "gridcolor": "white",
            "linecolor": "white",
            "ticks": ""
           }
          },
          "title": {
           "x": 0.05
          },
          "xaxis": {
           "automargin": true,
           "gridcolor": "white",
           "linecolor": "white",
           "ticks": "",
           "title": {
            "standoff": 15
           },
           "zerolinecolor": "white",
           "zerolinewidth": 2
          },
          "yaxis": {
           "automargin": true,
           "gridcolor": "white",
           "linecolor": "white",
           "ticks": "",
           "title": {
            "standoff": 15
           },
           "zerolinecolor": "white",
           "zerolinewidth": 2
          }
         }
        },
        "title": {
         "text": "Improvements"
        },
        "width": 1000,
        "xaxis": {
         "anchor": "y",
         "automargin": true,
         "domain": [
          0,
          1
         ],
         "tickangle": 60,
         "title": {
          "text": "Improvements"
         }
        },
        "yaxis": {
         "anchor": "x",
         "domain": [
          0,
          1
         ],
         "title": {
          "text": "Count"
         }
        }
       }
      },
      "text/html": [
       "<div>                            <div id=\"59833054-4641-4fd6-94bb-58742c0ed5f5\" class=\"plotly-graph-div\" style=\"height:700px; width:1000px;\"></div>            <script type=\"text/javascript\">                require([\"plotly\"], function(Plotly) {                    window.PLOTLYENV=window.PLOTLYENV || {};                                    if (document.getElementById(\"59833054-4641-4fd6-94bb-58742c0ed5f5\")) {                    Plotly.newPlot(                        \"59833054-4641-4fd6-94bb-58742c0ed5f5\",                        [{\"alignmentgroup\":\"True\",\"hovertemplate\":\"gender=Female<br>Improvements=%{x}<br>Count=%{y}<extra></extra>\",\"legendgroup\":\"Female\",\"marker\":{\"color\":\"#9fc8c8\",\"pattern\":{\"shape\":\"\"}},\"name\":\"Female\",\"offsetgroup\":\"Female\",\"orientation\":\"v\",\"showlegend\":true,\"textposition\":\"auto\",\"x\":[\"Better Search Functionality\",\"Enhanced Data Protection\",\"Faster Loading Times\",\"Local Customization\",\"Mobile Optimization\",\"Modern and Clean Design\",\"Not Specified\",\"Secure Transactions\"],\"xaxis\":\"x\",\"y\":[8,4,13,10,16,6,22,5],\"yaxis\":\"y\",\"type\":\"bar\"},{\"alignmentgroup\":\"True\",\"hovertemplate\":\"gender=Male<br>Improvements=%{x}<br>Count=%{y}<extra></extra>\",\"legendgroup\":\"Male\",\"marker\":{\"color\":\"#298c8c\",\"pattern\":{\"shape\":\"\"}},\"name\":\"Male\",\"offsetgroup\":\"Male\",\"orientation\":\"v\",\"showlegend\":true,\"textposition\":\"auto\",\"x\":[\"Better Search Functionality\",\"Enhanced Data Protection\",\"Faster Loading Times\",\"Local Customization\",\"Mobile Optimization\",\"Modern and Clean Design\",\"Not Specified\",\"Secure Transactions\"],\"xaxis\":\"x\",\"y\":[11,9,10,3,7,7,17,3],\"yaxis\":\"y\",\"type\":\"bar\"}],                        {\"template\":{\"data\":{\"histogram2dcontour\":[{\"type\":\"histogram2dcontour\",\"colorbar\":{\"outlinewidth\":0,\"ticks\":\"\"},\"colorscale\":[[0.0,\"#0d0887\"],[0.1111111111111111,\"#46039f\"],[0.2222222222222222,\"#7201a8\"],[0.3333333333333333,\"#9c179e\"],[0.4444444444444444,\"#bd3786\"],[0.5555555555555556,\"#d8576b\"],[0.6666666666666666,\"#ed7953\"],[0.7777777777777778,\"#fb9f3a\"],[0.8888888888888888,\"#fdca26\"],[1.0,\"#f0f921\"]]}],\"choropleth\":[{\"type\":\"choropleth\",\"colorbar\":{\"outlinewidth\":0,\"ticks\":\"\"}}],\"histogram2d\":[{\"type\":\"histogram2d\",\"colorbar\":{\"outlinewidth\":0,\"ticks\":\"\"},\"colorscale\":[[0.0,\"#0d0887\"],[0.1111111111111111,\"#46039f\"],[0.2222222222222222,\"#7201a8\"],[0.3333333333333333,\"#9c179e\"],[0.4444444444444444,\"#bd3786\"],[0.5555555555555556,\"#d8576b\"],[0.6666666666666666,\"#ed7953\"],[0.7777777777777778,\"#fb9f3a\"],[0.8888888888888888,\"#fdca26\"],[1.0,\"#f0f921\"]]}],\"heatmap\":[{\"type\":\"heatmap\",\"colorbar\":{\"outlinewidth\":0,\"ticks\":\"\"},\"colorscale\":[[0.0,\"#0d0887\"],[0.1111111111111111,\"#46039f\"],[0.2222222222222222,\"#7201a8\"],[0.3333333333333333,\"#9c179e\"],[0.4444444444444444,\"#bd3786\"],[0.5555555555555556,\"#d8576b\"],[0.6666666666666666,\"#ed7953\"],[0.7777777777777778,\"#fb9f3a\"],[0.8888888888888888,\"#fdca26\"],[1.0,\"#f0f921\"]]}],\"heatmapgl\":[{\"type\":\"heatmapgl\",\"colorbar\":{\"outlinewidth\":0,\"ticks\":\"\"},\"colorscale\":[[0.0,\"#0d0887\"],[0.1111111111111111,\"#46039f\"],[0.2222222222222222,\"#7201a8\"],[0.3333333333333333,\"#9c179e\"],[0.4444444444444444,\"#bd3786\"],[0.5555555555555556,\"#d8576b\"],[0.6666666666666666,\"#ed7953\"],[0.7777777777777778,\"#fb9f3a\"],[0.8888888888888888,\"#fdca26\"],[1.0,\"#f0f921\"]]}],\"contourcarpet\":[{\"type\":\"contourcarpet\",\"colorbar\":{\"outlinewidth\":0,\"ticks\":\"\"}}],\"contour\":[{\"type\":\"contour\",\"colorbar\":{\"outlinewidth\":0,\"ticks\":\"\"},\"colorscale\":[[0.0,\"#0d0887\"],[0.1111111111111111,\"#46039f\"],[0.2222222222222222,\"#7201a8\"],[0.3333333333333333,\"#9c179e\"],[0.4444444444444444,\"#bd3786\"],[0.5555555555555556,\"#d8576b\"],[0.6666666666666666,\"#ed7953\"],[0.7777777777777778,\"#fb9f3a\"],[0.8888888888888888,\"#fdca26\"],[1.0,\"#f0f921\"]]}],\"surface\":[{\"type\":\"surface\",\"colorbar\":{\"outlinewidth\":0,\"ticks\":\"\"},\"colorscale\":[[0.0,\"#0d0887\"],[0.1111111111111111,\"#46039f\"],[0.2222222222222222,\"#7201a8\"],[0.3333333333333333,\"#9c179e\"],[0.4444444444444444,\"#bd3786\"],[0.5555555555555556,\"#d8576b\"],[0.6666666666666666,\"#ed7953\"],[0.7777777777777778,\"#fb9f3a\"],[0.8888888888888888,\"#fdca26\"],[1.0,\"#f0f921\"]]}],\"mesh3d\":[{\"type\":\"mesh3d\",\"colorbar\":{\"outlinewidth\":0,\"ticks\":\"\"}}],\"scatter\":[{\"fillpattern\":{\"fillmode\":\"overlay\",\"size\":10,\"solidity\":0.2},\"type\":\"scatter\"}],\"parcoords\":[{\"type\":\"parcoords\",\"line\":{\"colorbar\":{\"outlinewidth\":0,\"ticks\":\"\"}}}],\"scatterpolargl\":[{\"type\":\"scatterpolargl\",\"marker\":{\"colorbar\":{\"outlinewidth\":0,\"ticks\":\"\"}}}],\"bar\":[{\"error_x\":{\"color\":\"#2a3f5f\"},\"error_y\":{\"color\":\"#2a3f5f\"},\"marker\":{\"line\":{\"color\":\"#E5ECF6\",\"width\":0.5},\"pattern\":{\"fillmode\":\"overlay\",\"size\":10,\"solidity\":0.2}},\"type\":\"bar\"}],\"scattergeo\":[{\"type\":\"scattergeo\",\"marker\":{\"colorbar\":{\"outlinewidth\":0,\"ticks\":\"\"}}}],\"scatterpolar\":[{\"type\":\"scatterpolar\",\"marker\":{\"colorbar\":{\"outlinewidth\":0,\"ticks\":\"\"}}}],\"histogram\":[{\"marker\":{\"pattern\":{\"fillmode\":\"overlay\",\"size\":10,\"solidity\":0.2}},\"type\":\"histogram\"}],\"scattergl\":[{\"type\":\"scattergl\",\"marker\":{\"colorbar\":{\"outlinewidth\":0,\"ticks\":\"\"}}}],\"scatter3d\":[{\"type\":\"scatter3d\",\"line\":{\"colorbar\":{\"outlinewidth\":0,\"ticks\":\"\"}},\"marker\":{\"colorbar\":{\"outlinewidth\":0,\"ticks\":\"\"}}}],\"scattermapbox\":[{\"type\":\"scattermapbox\",\"marker\":{\"colorbar\":{\"outlinewidth\":0,\"ticks\":\"\"}}}],\"scatterternary\":[{\"type\":\"scatterternary\",\"marker\":{\"colorbar\":{\"outlinewidth\":0,\"ticks\":\"\"}}}],\"scattercarpet\":[{\"type\":\"scattercarpet\",\"marker\":{\"colorbar\":{\"outlinewidth\":0,\"ticks\":\"\"}}}],\"carpet\":[{\"aaxis\":{\"endlinecolor\":\"#2a3f5f\",\"gridcolor\":\"white\",\"linecolor\":\"white\",\"minorgridcolor\":\"white\",\"startlinecolor\":\"#2a3f5f\"},\"baxis\":{\"endlinecolor\":\"#2a3f5f\",\"gridcolor\":\"white\",\"linecolor\":\"white\",\"minorgridcolor\":\"white\",\"startlinecolor\":\"#2a3f5f\"},\"type\":\"carpet\"}],\"table\":[{\"cells\":{\"fill\":{\"color\":\"#EBF0F8\"},\"line\":{\"color\":\"white\"}},\"header\":{\"fill\":{\"color\":\"#C8D4E3\"},\"line\":{\"color\":\"white\"}},\"type\":\"table\"}],\"barpolar\":[{\"marker\":{\"line\":{\"color\":\"#E5ECF6\",\"width\":0.5},\"pattern\":{\"fillmode\":\"overlay\",\"size\":10,\"solidity\":0.2}},\"type\":\"barpolar\"}],\"pie\":[{\"automargin\":true,\"type\":\"pie\"}]},\"layout\":{\"autotypenumbers\":\"strict\",\"colorway\":[\"#636efa\",\"#EF553B\",\"#00cc96\",\"#ab63fa\",\"#FFA15A\",\"#19d3f3\",\"#FF6692\",\"#B6E880\",\"#FF97FF\",\"#FECB52\"],\"font\":{\"color\":\"#2a3f5f\"},\"hovermode\":\"closest\",\"hoverlabel\":{\"align\":\"left\"},\"paper_bgcolor\":\"white\",\"plot_bgcolor\":\"#E5ECF6\",\"polar\":{\"bgcolor\":\"#E5ECF6\",\"angularaxis\":{\"gridcolor\":\"white\",\"linecolor\":\"white\",\"ticks\":\"\"},\"radialaxis\":{\"gridcolor\":\"white\",\"linecolor\":\"white\",\"ticks\":\"\"}},\"ternary\":{\"bgcolor\":\"#E5ECF6\",\"aaxis\":{\"gridcolor\":\"white\",\"linecolor\":\"white\",\"ticks\":\"\"},\"baxis\":{\"gridcolor\":\"white\",\"linecolor\":\"white\",\"ticks\":\"\"},\"caxis\":{\"gridcolor\":\"white\",\"linecolor\":\"white\",\"ticks\":\"\"}},\"coloraxis\":{\"colorbar\":{\"outlinewidth\":0,\"ticks\":\"\"}},\"colorscale\":{\"sequential\":[[0.0,\"#0d0887\"],[0.1111111111111111,\"#46039f\"],[0.2222222222222222,\"#7201a8\"],[0.3333333333333333,\"#9c179e\"],[0.4444444444444444,\"#bd3786\"],[0.5555555555555556,\"#d8576b\"],[0.6666666666666666,\"#ed7953\"],[0.7777777777777778,\"#fb9f3a\"],[0.8888888888888888,\"#fdca26\"],[1.0,\"#f0f921\"]],\"sequentialminus\":[[0.0,\"#0d0887\"],[0.1111111111111111,\"#46039f\"],[0.2222222222222222,\"#7201a8\"],[0.3333333333333333,\"#9c179e\"],[0.4444444444444444,\"#bd3786\"],[0.5555555555555556,\"#d8576b\"],[0.6666666666666666,\"#ed7953\"],[0.7777777777777778,\"#fb9f3a\"],[0.8888888888888888,\"#fdca26\"],[1.0,\"#f0f921\"]],\"diverging\":[[0,\"#8e0152\"],[0.1,\"#c51b7d\"],[0.2,\"#de77ae\"],[0.3,\"#f1b6da\"],[0.4,\"#fde0ef\"],[0.5,\"#f7f7f7\"],[0.6,\"#e6f5d0\"],[0.7,\"#b8e186\"],[0.8,\"#7fbc41\"],[0.9,\"#4d9221\"],[1,\"#276419\"]]},\"xaxis\":{\"gridcolor\":\"white\",\"linecolor\":\"white\",\"ticks\":\"\",\"title\":{\"standoff\":15},\"zerolinecolor\":\"white\",\"automargin\":true,\"zerolinewidth\":2},\"yaxis\":{\"gridcolor\":\"white\",\"linecolor\":\"white\",\"ticks\":\"\",\"title\":{\"standoff\":15},\"zerolinecolor\":\"white\",\"automargin\":true,\"zerolinewidth\":2},\"scene\":{\"xaxis\":{\"backgroundcolor\":\"#E5ECF6\",\"gridcolor\":\"white\",\"linecolor\":\"white\",\"showbackground\":true,\"ticks\":\"\",\"zerolinecolor\":\"white\",\"gridwidth\":2},\"yaxis\":{\"backgroundcolor\":\"#E5ECF6\",\"gridcolor\":\"white\",\"linecolor\":\"white\",\"showbackground\":true,\"ticks\":\"\",\"zerolinecolor\":\"white\",\"gridwidth\":2},\"zaxis\":{\"backgroundcolor\":\"#E5ECF6\",\"gridcolor\":\"white\",\"linecolor\":\"white\",\"showbackground\":true,\"ticks\":\"\",\"zerolinecolor\":\"white\",\"gridwidth\":2}},\"shapedefaults\":{\"line\":{\"color\":\"#2a3f5f\"}},\"annotationdefaults\":{\"arrowcolor\":\"#2a3f5f\",\"arrowhead\":0,\"arrowwidth\":1},\"geo\":{\"bgcolor\":\"white\",\"landcolor\":\"#E5ECF6\",\"subunitcolor\":\"white\",\"showland\":true,\"showlakes\":true,\"lakecolor\":\"white\"},\"title\":{\"x\":0.05},\"mapbox\":{\"style\":\"light\"}}},\"xaxis\":{\"anchor\":\"y\",\"domain\":[0.0,1.0],\"title\":{\"text\":\"Improvements\"},\"tickangle\":60,\"automargin\":true},\"yaxis\":{\"anchor\":\"x\",\"domain\":[0.0,1.0],\"title\":{\"text\":\"Count\"}},\"legend\":{\"title\":{\"text\":\"gender\"},\"tracegroupgap\":0},\"title\":{\"text\":\"Improvements\"},\"barmode\":\"group\",\"font\":{\"size\":14},\"width\":1000,\"height\":700},                        {\"responsive\": true}                    ).then(function(){\n",
       "                            \n",
       "var gd = document.getElementById('59833054-4641-4fd6-94bb-58742c0ed5f5');\n",
       "var x = new MutationObserver(function (mutations, observer) {{\n",
       "        var display = window.getComputedStyle(gd).display;\n",
       "        if (!display || display === 'none') {{\n",
       "            console.log([gd, 'removed!']);\n",
       "            Plotly.purge(gd);\n",
       "            observer.disconnect();\n",
       "        }}\n",
       "}});\n",
       "\n",
       "// Listen for the removal of the full notebook cells\n",
       "var notebookContainer = gd.closest('#notebook-container');\n",
       "if (notebookContainer) {{\n",
       "    x.observe(notebookContainer, {childList: true});\n",
       "}}\n",
       "\n",
       "// Listen for the clearing of the current output cell\n",
       "var outputEl = gd.closest('.output');\n",
       "if (outputEl) {{\n",
       "    x.observe(outputEl, {childList: true});\n",
       "}}\n",
       "\n",
       "                        })                };                });            </script>        </div>"
      ]
     },
     "metadata": {},
     "output_type": "display_data"
    }
   ],
   "source": [
    "import plotly.express as px\n",
    "\n",
    "\n",
    "improvements_count = data.groupby(['improvements', 'gender']).size().reset_index(name='count')\n",
    "\n",
    "fig = px.bar(improvements_count, \n",
    "             x='improvements', \n",
    "             y='count', \n",
    "             color='gender', \n",
    "             title=\"Improvements by Gender\", \n",
    "             labels={'improvements': 'Improvements', 'count': 'Count'},\n",
    "             color_discrete_sequence=['#9fc8c8','#298c8c', '#a6a6d8'])\n",
    "\n",
    "fig.update_layout(barmode='group',\n",
    "                  xaxis_tickangle=60, \n",
    "                  title_text=\"Improvements\", \n",
    "                  xaxis_title=\"Improvements\", \n",
    "                  yaxis_title=\"Count\", \n",
    "                  font=dict(size=14),\n",
    "                  width=1000,  # Increase width for more space\n",
    "                  height=700,  # Adjust height if needed\n",
    "                  xaxis={'automargin': True})\n",
    "\n",
    "\n",
    "fig.show()\n"
   ]
  },
  {
   "cell_type": "code",
   "execution_count": 170,
   "id": "5acd925c",
   "metadata": {},
   "outputs": [
    {
     "data": {
      "application/vnd.plotly.v1+json": {
       "config": {
        "plotlyServerURL": "https://plot.ly"
       },
       "data": [
        {
         "alignmentgroup": "True",
         "hovertemplate": "gender=Female<br>additional_features=%{x}<br>Count=%{y}<extra></extra>",
         "legendgroup": "Female",
         "marker": {
          "color": "#b8b8b8",
          "pattern": {
           "shape": ""
          }
         },
         "name": "Female",
         "offsetgroup": "Female",
         "orientation": "v",
         "showlegend": true,
         "textposition": "auto",
         "type": "bar",
         "x": [
          "AI and Data-Driven Personalization",
          "Advanced Localization Features",
          "Community and Engagement Tools",
          "Not Specified",
          "Public Service Enhancements",
          "Sustainability Features",
          "Unified Payment Gateways"
         ],
         "xaxis": "x",
         "y": [
          8,
          8,
          11,
          22,
          11,
          16,
          8
         ],
         "yaxis": "y"
        },
        {
         "alignmentgroup": "True",
         "hovertemplate": "gender=Male<br>additional_features=%{x}<br>Count=%{y}<extra></extra>",
         "legendgroup": "Male",
         "marker": {
          "color": "#1a80bb",
          "pattern": {
           "shape": ""
          }
         },
         "name": "Male",
         "offsetgroup": "Male",
         "orientation": "v",
         "showlegend": true,
         "textposition": "auto",
         "type": "bar",
         "x": [
          "AI and Data-Driven Personalization",
          "Advanced Localization Features",
          "Community and Engagement Tools",
          "Not Specified",
          "Public Service Enhancements",
          "Sustainability Features",
          "Unified Payment Gateways"
         ],
         "xaxis": "x",
         "y": [
          17,
          2,
          8,
          17,
          5,
          8,
          10
         ],
         "yaxis": "y"
        }
       ],
       "layout": {
        "barmode": "group",
        "font": {
         "size": 14
        },
        "height": 700,
        "legend": {
         "title": {
          "text": "gender"
         },
         "tracegroupgap": 0
        },
        "template": {
         "data": {
          "bar": [
           {
            "error_x": {
             "color": "#2a3f5f"
            },
            "error_y": {
             "color": "#2a3f5f"
            },
            "marker": {
             "line": {
              "color": "#E5ECF6",
              "width": 0.5
             },
             "pattern": {
              "fillmode": "overlay",
              "size": 10,
              "solidity": 0.2
             }
            },
            "type": "bar"
           }
          ],
          "barpolar": [
           {
            "marker": {
             "line": {
              "color": "#E5ECF6",
              "width": 0.5
             },
             "pattern": {
              "fillmode": "overlay",
              "size": 10,
              "solidity": 0.2
             }
            },
            "type": "barpolar"
           }
          ],
          "carpet": [
           {
            "aaxis": {
             "endlinecolor": "#2a3f5f",
             "gridcolor": "white",
             "linecolor": "white",
             "minorgridcolor": "white",
             "startlinecolor": "#2a3f5f"
            },
            "baxis": {
             "endlinecolor": "#2a3f5f",
             "gridcolor": "white",
             "linecolor": "white",
             "minorgridcolor": "white",
             "startlinecolor": "#2a3f5f"
            },
            "type": "carpet"
           }
          ],
          "choropleth": [
           {
            "colorbar": {
             "outlinewidth": 0,
             "ticks": ""
            },
            "type": "choropleth"
           }
          ],
          "contour": [
           {
            "colorbar": {
             "outlinewidth": 0,
             "ticks": ""
            },
            "colorscale": [
             [
              0,
              "#0d0887"
             ],
             [
              0.1111111111111111,
              "#46039f"
             ],
             [
              0.2222222222222222,
              "#7201a8"
             ],
             [
              0.3333333333333333,
              "#9c179e"
             ],
             [
              0.4444444444444444,
              "#bd3786"
             ],
             [
              0.5555555555555556,
              "#d8576b"
             ],
             [
              0.6666666666666666,
              "#ed7953"
             ],
             [
              0.7777777777777778,
              "#fb9f3a"
             ],
             [
              0.8888888888888888,
              "#fdca26"
             ],
             [
              1,
              "#f0f921"
             ]
            ],
            "type": "contour"
           }
          ],
          "contourcarpet": [
           {
            "colorbar": {
             "outlinewidth": 0,
             "ticks": ""
            },
            "type": "contourcarpet"
           }
          ],
          "heatmap": [
           {
            "colorbar": {
             "outlinewidth": 0,
             "ticks": ""
            },
            "colorscale": [
             [
              0,
              "#0d0887"
             ],
             [
              0.1111111111111111,
              "#46039f"
             ],
             [
              0.2222222222222222,
              "#7201a8"
             ],
             [
              0.3333333333333333,
              "#9c179e"
             ],
             [
              0.4444444444444444,
              "#bd3786"
             ],
             [
              0.5555555555555556,
              "#d8576b"
             ],
             [
              0.6666666666666666,
              "#ed7953"
             ],
             [
              0.7777777777777778,
              "#fb9f3a"
             ],
             [
              0.8888888888888888,
              "#fdca26"
             ],
             [
              1,
              "#f0f921"
             ]
            ],
            "type": "heatmap"
           }
          ],
          "heatmapgl": [
           {
            "colorbar": {
             "outlinewidth": 0,
             "ticks": ""
            },
            "colorscale": [
             [
              0,
              "#0d0887"
             ],
             [
              0.1111111111111111,
              "#46039f"
             ],
             [
              0.2222222222222222,
              "#7201a8"
             ],
             [
              0.3333333333333333,
              "#9c179e"
             ],
             [
              0.4444444444444444,
              "#bd3786"
             ],
             [
              0.5555555555555556,
              "#d8576b"
             ],
             [
              0.6666666666666666,
              "#ed7953"
             ],
             [
              0.7777777777777778,
              "#fb9f3a"
             ],
             [
              0.8888888888888888,
              "#fdca26"
             ],
             [
              1,
              "#f0f921"
             ]
            ],
            "type": "heatmapgl"
           }
          ],
          "histogram": [
           {
            "marker": {
             "pattern": {
              "fillmode": "overlay",
              "size": 10,
              "solidity": 0.2
             }
            },
            "type": "histogram"
           }
          ],
          "histogram2d": [
           {
            "colorbar": {
             "outlinewidth": 0,
             "ticks": ""
            },
            "colorscale": [
             [
              0,
              "#0d0887"
             ],
             [
              0.1111111111111111,
              "#46039f"
             ],
             [
              0.2222222222222222,
              "#7201a8"
             ],
             [
              0.3333333333333333,
              "#9c179e"
             ],
             [
              0.4444444444444444,
              "#bd3786"
             ],
             [
              0.5555555555555556,
              "#d8576b"
             ],
             [
              0.6666666666666666,
              "#ed7953"
             ],
             [
              0.7777777777777778,
              "#fb9f3a"
             ],
             [
              0.8888888888888888,
              "#fdca26"
             ],
             [
              1,
              "#f0f921"
             ]
            ],
            "type": "histogram2d"
           }
          ],
          "histogram2dcontour": [
           {
            "colorbar": {
             "outlinewidth": 0,
             "ticks": ""
            },
            "colorscale": [
             [
              0,
              "#0d0887"
             ],
             [
              0.1111111111111111,
              "#46039f"
             ],
             [
              0.2222222222222222,
              "#7201a8"
             ],
             [
              0.3333333333333333,
              "#9c179e"
             ],
             [
              0.4444444444444444,
              "#bd3786"
             ],
             [
              0.5555555555555556,
              "#d8576b"
             ],
             [
              0.6666666666666666,
              "#ed7953"
             ],
             [
              0.7777777777777778,
              "#fb9f3a"
             ],
             [
              0.8888888888888888,
              "#fdca26"
             ],
             [
              1,
              "#f0f921"
             ]
            ],
            "type": "histogram2dcontour"
           }
          ],
          "mesh3d": [
           {
            "colorbar": {
             "outlinewidth": 0,
             "ticks": ""
            },
            "type": "mesh3d"
           }
          ],
          "parcoords": [
           {
            "line": {
             "colorbar": {
              "outlinewidth": 0,
              "ticks": ""
             }
            },
            "type": "parcoords"
           }
          ],
          "pie": [
           {
            "automargin": true,
            "type": "pie"
           }
          ],
          "scatter": [
           {
            "fillpattern": {
             "fillmode": "overlay",
             "size": 10,
             "solidity": 0.2
            },
            "type": "scatter"
           }
          ],
          "scatter3d": [
           {
            "line": {
             "colorbar": {
              "outlinewidth": 0,
              "ticks": ""
             }
            },
            "marker": {
             "colorbar": {
              "outlinewidth": 0,
              "ticks": ""
             }
            },
            "type": "scatter3d"
           }
          ],
          "scattercarpet": [
           {
            "marker": {
             "colorbar": {
              "outlinewidth": 0,
              "ticks": ""
             }
            },
            "type": "scattercarpet"
           }
          ],
          "scattergeo": [
           {
            "marker": {
             "colorbar": {
              "outlinewidth": 0,
              "ticks": ""
             }
            },
            "type": "scattergeo"
           }
          ],
          "scattergl": [
           {
            "marker": {
             "colorbar": {
              "outlinewidth": 0,
              "ticks": ""
             }
            },
            "type": "scattergl"
           }
          ],
          "scattermapbox": [
           {
            "marker": {
             "colorbar": {
              "outlinewidth": 0,
              "ticks": ""
             }
            },
            "type": "scattermapbox"
           }
          ],
          "scatterpolar": [
           {
            "marker": {
             "colorbar": {
              "outlinewidth": 0,
              "ticks": ""
             }
            },
            "type": "scatterpolar"
           }
          ],
          "scatterpolargl": [
           {
            "marker": {
             "colorbar": {
              "outlinewidth": 0,
              "ticks": ""
             }
            },
            "type": "scatterpolargl"
           }
          ],
          "scatterternary": [
           {
            "marker": {
             "colorbar": {
              "outlinewidth": 0,
              "ticks": ""
             }
            },
            "type": "scatterternary"
           }
          ],
          "surface": [
           {
            "colorbar": {
             "outlinewidth": 0,
             "ticks": ""
            },
            "colorscale": [
             [
              0,
              "#0d0887"
             ],
             [
              0.1111111111111111,
              "#46039f"
             ],
             [
              0.2222222222222222,
              "#7201a8"
             ],
             [
              0.3333333333333333,
              "#9c179e"
             ],
             [
              0.4444444444444444,
              "#bd3786"
             ],
             [
              0.5555555555555556,
              "#d8576b"
             ],
             [
              0.6666666666666666,
              "#ed7953"
             ],
             [
              0.7777777777777778,
              "#fb9f3a"
             ],
             [
              0.8888888888888888,
              "#fdca26"
             ],
             [
              1,
              "#f0f921"
             ]
            ],
            "type": "surface"
           }
          ],
          "table": [
           {
            "cells": {
             "fill": {
              "color": "#EBF0F8"
             },
             "line": {
              "color": "white"
             }
            },
            "header": {
             "fill": {
              "color": "#C8D4E3"
             },
             "line": {
              "color": "white"
             }
            },
            "type": "table"
           }
          ]
         },
         "layout": {
          "annotationdefaults": {
           "arrowcolor": "#2a3f5f",
           "arrowhead": 0,
           "arrowwidth": 1
          },
          "autotypenumbers": "strict",
          "coloraxis": {
           "colorbar": {
            "outlinewidth": 0,
            "ticks": ""
           }
          },
          "colorscale": {
           "diverging": [
            [
             0,
             "#8e0152"
            ],
            [
             0.1,
             "#c51b7d"
            ],
            [
             0.2,
             "#de77ae"
            ],
            [
             0.3,
             "#f1b6da"
            ],
            [
             0.4,
             "#fde0ef"
            ],
            [
             0.5,
             "#f7f7f7"
            ],
            [
             0.6,
             "#e6f5d0"
            ],
            [
             0.7,
             "#b8e186"
            ],
            [
             0.8,
             "#7fbc41"
            ],
            [
             0.9,
             "#4d9221"
            ],
            [
             1,
             "#276419"
            ]
           ],
           "sequential": [
            [
             0,
             "#0d0887"
            ],
            [
             0.1111111111111111,
             "#46039f"
            ],
            [
             0.2222222222222222,
             "#7201a8"
            ],
            [
             0.3333333333333333,
             "#9c179e"
            ],
            [
             0.4444444444444444,
             "#bd3786"
            ],
            [
             0.5555555555555556,
             "#d8576b"
            ],
            [
             0.6666666666666666,
             "#ed7953"
            ],
            [
             0.7777777777777778,
             "#fb9f3a"
            ],
            [
             0.8888888888888888,
             "#fdca26"
            ],
            [
             1,
             "#f0f921"
            ]
           ],
           "sequentialminus": [
            [
             0,
             "#0d0887"
            ],
            [
             0.1111111111111111,
             "#46039f"
            ],
            [
             0.2222222222222222,
             "#7201a8"
            ],
            [
             0.3333333333333333,
             "#9c179e"
            ],
            [
             0.4444444444444444,
             "#bd3786"
            ],
            [
             0.5555555555555556,
             "#d8576b"
            ],
            [
             0.6666666666666666,
             "#ed7953"
            ],
            [
             0.7777777777777778,
             "#fb9f3a"
            ],
            [
             0.8888888888888888,
             "#fdca26"
            ],
            [
             1,
             "#f0f921"
            ]
           ]
          },
          "colorway": [
           "#636efa",
           "#EF553B",
           "#00cc96",
           "#ab63fa",
           "#FFA15A",
           "#19d3f3",
           "#FF6692",
           "#B6E880",
           "#FF97FF",
           "#FECB52"
          ],
          "font": {
           "color": "#2a3f5f"
          },
          "geo": {
           "bgcolor": "white",
           "lakecolor": "white",
           "landcolor": "#E5ECF6",
           "showlakes": true,
           "showland": true,
           "subunitcolor": "white"
          },
          "hoverlabel": {
           "align": "left"
          },
          "hovermode": "closest",
          "mapbox": {
           "style": "light"
          },
          "paper_bgcolor": "white",
          "plot_bgcolor": "#E5ECF6",
          "polar": {
           "angularaxis": {
            "gridcolor": "white",
            "linecolor": "white",
            "ticks": ""
           },
           "bgcolor": "#E5ECF6",
           "radialaxis": {
            "gridcolor": "white",
            "linecolor": "white",
            "ticks": ""
           }
          },
          "scene": {
           "xaxis": {
            "backgroundcolor": "#E5ECF6",
            "gridcolor": "white",
            "gridwidth": 2,
            "linecolor": "white",
            "showbackground": true,
            "ticks": "",
            "zerolinecolor": "white"
           },
           "yaxis": {
            "backgroundcolor": "#E5ECF6",
            "gridcolor": "white",
            "gridwidth": 2,
            "linecolor": "white",
            "showbackground": true,
            "ticks": "",
            "zerolinecolor": "white"
           },
           "zaxis": {
            "backgroundcolor": "#E5ECF6",
            "gridcolor": "white",
            "gridwidth": 2,
            "linecolor": "white",
            "showbackground": true,
            "ticks": "",
            "zerolinecolor": "white"
           }
          },
          "shapedefaults": {
           "line": {
            "color": "#2a3f5f"
           }
          },
          "ternary": {
           "aaxis": {
            "gridcolor": "white",
            "linecolor": "white",
            "ticks": ""
           },
           "baxis": {
            "gridcolor": "white",
            "linecolor": "white",
            "ticks": ""
           },
           "bgcolor": "#E5ECF6",
           "caxis": {
            "gridcolor": "white",
            "linecolor": "white",
            "ticks": ""
           }
          },
          "title": {
           "x": 0.05
          },
          "xaxis": {
           "automargin": true,
           "gridcolor": "white",
           "linecolor": "white",
           "ticks": "",
           "title": {
            "standoff": 15
           },
           "zerolinecolor": "white",
           "zerolinewidth": 2
          },
          "yaxis": {
           "automargin": true,
           "gridcolor": "white",
           "linecolor": "white",
           "ticks": "",
           "title": {
            "standoff": 15
           },
           "zerolinecolor": "white",
           "zerolinewidth": 2
          }
         }
        },
        "title": {
         "text": "additional_features"
        },
        "width": 1000,
        "xaxis": {
         "anchor": "y",
         "automargin": true,
         "domain": [
          0,
          1
         ],
         "tickangle": 60,
         "title": {
          "text": "additional_features"
         }
        },
        "yaxis": {
         "anchor": "x",
         "domain": [
          0,
          1
         ],
         "title": {
          "text": "Count"
         }
        }
       }
      },
      "text/html": [
       "<div>                            <div id=\"67758ad7-fa2b-49ea-a6bc-d0edd8be6c22\" class=\"plotly-graph-div\" style=\"height:700px; width:1000px;\"></div>            <script type=\"text/javascript\">                require([\"plotly\"], function(Plotly) {                    window.PLOTLYENV=window.PLOTLYENV || {};                                    if (document.getElementById(\"67758ad7-fa2b-49ea-a6bc-d0edd8be6c22\")) {                    Plotly.newPlot(                        \"67758ad7-fa2b-49ea-a6bc-d0edd8be6c22\",                        [{\"alignmentgroup\":\"True\",\"hovertemplate\":\"gender=Female<br>additional_features=%{x}<br>Count=%{y}<extra></extra>\",\"legendgroup\":\"Female\",\"marker\":{\"color\":\"#b8b8b8\",\"pattern\":{\"shape\":\"\"}},\"name\":\"Female\",\"offsetgroup\":\"Female\",\"orientation\":\"v\",\"showlegend\":true,\"textposition\":\"auto\",\"x\":[\"AI and Data-Driven Personalization\",\"Advanced Localization Features\",\"Community and Engagement Tools\",\"Not Specified\",\"Public Service Enhancements\",\"Sustainability Features\",\"Unified Payment Gateways\"],\"xaxis\":\"x\",\"y\":[8,8,11,22,11,16,8],\"yaxis\":\"y\",\"type\":\"bar\"},{\"alignmentgroup\":\"True\",\"hovertemplate\":\"gender=Male<br>additional_features=%{x}<br>Count=%{y}<extra></extra>\",\"legendgroup\":\"Male\",\"marker\":{\"color\":\"#1a80bb\",\"pattern\":{\"shape\":\"\"}},\"name\":\"Male\",\"offsetgroup\":\"Male\",\"orientation\":\"v\",\"showlegend\":true,\"textposition\":\"auto\",\"x\":[\"AI and Data-Driven Personalization\",\"Advanced Localization Features\",\"Community and Engagement Tools\",\"Not Specified\",\"Public Service Enhancements\",\"Sustainability Features\",\"Unified Payment Gateways\"],\"xaxis\":\"x\",\"y\":[17,2,8,17,5,8,10],\"yaxis\":\"y\",\"type\":\"bar\"}],                        {\"template\":{\"data\":{\"histogram2dcontour\":[{\"type\":\"histogram2dcontour\",\"colorbar\":{\"outlinewidth\":0,\"ticks\":\"\"},\"colorscale\":[[0.0,\"#0d0887\"],[0.1111111111111111,\"#46039f\"],[0.2222222222222222,\"#7201a8\"],[0.3333333333333333,\"#9c179e\"],[0.4444444444444444,\"#bd3786\"],[0.5555555555555556,\"#d8576b\"],[0.6666666666666666,\"#ed7953\"],[0.7777777777777778,\"#fb9f3a\"],[0.8888888888888888,\"#fdca26\"],[1.0,\"#f0f921\"]]}],\"choropleth\":[{\"type\":\"choropleth\",\"colorbar\":{\"outlinewidth\":0,\"ticks\":\"\"}}],\"histogram2d\":[{\"type\":\"histogram2d\",\"colorbar\":{\"outlinewidth\":0,\"ticks\":\"\"},\"colorscale\":[[0.0,\"#0d0887\"],[0.1111111111111111,\"#46039f\"],[0.2222222222222222,\"#7201a8\"],[0.3333333333333333,\"#9c179e\"],[0.4444444444444444,\"#bd3786\"],[0.5555555555555556,\"#d8576b\"],[0.6666666666666666,\"#ed7953\"],[0.7777777777777778,\"#fb9f3a\"],[0.8888888888888888,\"#fdca26\"],[1.0,\"#f0f921\"]]}],\"heatmap\":[{\"type\":\"heatmap\",\"colorbar\":{\"outlinewidth\":0,\"ticks\":\"\"},\"colorscale\":[[0.0,\"#0d0887\"],[0.1111111111111111,\"#46039f\"],[0.2222222222222222,\"#7201a8\"],[0.3333333333333333,\"#9c179e\"],[0.4444444444444444,\"#bd3786\"],[0.5555555555555556,\"#d8576b\"],[0.6666666666666666,\"#ed7953\"],[0.7777777777777778,\"#fb9f3a\"],[0.8888888888888888,\"#fdca26\"],[1.0,\"#f0f921\"]]}],\"heatmapgl\":[{\"type\":\"heatmapgl\",\"colorbar\":{\"outlinewidth\":0,\"ticks\":\"\"},\"colorscale\":[[0.0,\"#0d0887\"],[0.1111111111111111,\"#46039f\"],[0.2222222222222222,\"#7201a8\"],[0.3333333333333333,\"#9c179e\"],[0.4444444444444444,\"#bd3786\"],[0.5555555555555556,\"#d8576b\"],[0.6666666666666666,\"#ed7953\"],[0.7777777777777778,\"#fb9f3a\"],[0.8888888888888888,\"#fdca26\"],[1.0,\"#f0f921\"]]}],\"contourcarpet\":[{\"type\":\"contourcarpet\",\"colorbar\":{\"outlinewidth\":0,\"ticks\":\"\"}}],\"contour\":[{\"type\":\"contour\",\"colorbar\":{\"outlinewidth\":0,\"ticks\":\"\"},\"colorscale\":[[0.0,\"#0d0887\"],[0.1111111111111111,\"#46039f\"],[0.2222222222222222,\"#7201a8\"],[0.3333333333333333,\"#9c179e\"],[0.4444444444444444,\"#bd3786\"],[0.5555555555555556,\"#d8576b\"],[0.6666666666666666,\"#ed7953\"],[0.7777777777777778,\"#fb9f3a\"],[0.8888888888888888,\"#fdca26\"],[1.0,\"#f0f921\"]]}],\"surface\":[{\"type\":\"surface\",\"colorbar\":{\"outlinewidth\":0,\"ticks\":\"\"},\"colorscale\":[[0.0,\"#0d0887\"],[0.1111111111111111,\"#46039f\"],[0.2222222222222222,\"#7201a8\"],[0.3333333333333333,\"#9c179e\"],[0.4444444444444444,\"#bd3786\"],[0.5555555555555556,\"#d8576b\"],[0.6666666666666666,\"#ed7953\"],[0.7777777777777778,\"#fb9f3a\"],[0.8888888888888888,\"#fdca26\"],[1.0,\"#f0f921\"]]}],\"mesh3d\":[{\"type\":\"mesh3d\",\"colorbar\":{\"outlinewidth\":0,\"ticks\":\"\"}}],\"scatter\":[{\"fillpattern\":{\"fillmode\":\"overlay\",\"size\":10,\"solidity\":0.2},\"type\":\"scatter\"}],\"parcoords\":[{\"type\":\"parcoords\",\"line\":{\"colorbar\":{\"outlinewidth\":0,\"ticks\":\"\"}}}],\"scatterpolargl\":[{\"type\":\"scatterpolargl\",\"marker\":{\"colorbar\":{\"outlinewidth\":0,\"ticks\":\"\"}}}],\"bar\":[{\"error_x\":{\"color\":\"#2a3f5f\"},\"error_y\":{\"color\":\"#2a3f5f\"},\"marker\":{\"line\":{\"color\":\"#E5ECF6\",\"width\":0.5},\"pattern\":{\"fillmode\":\"overlay\",\"size\":10,\"solidity\":0.2}},\"type\":\"bar\"}],\"scattergeo\":[{\"type\":\"scattergeo\",\"marker\":{\"colorbar\":{\"outlinewidth\":0,\"ticks\":\"\"}}}],\"scatterpolar\":[{\"type\":\"scatterpolar\",\"marker\":{\"colorbar\":{\"outlinewidth\":0,\"ticks\":\"\"}}}],\"histogram\":[{\"marker\":{\"pattern\":{\"fillmode\":\"overlay\",\"size\":10,\"solidity\":0.2}},\"type\":\"histogram\"}],\"scattergl\":[{\"type\":\"scattergl\",\"marker\":{\"colorbar\":{\"outlinewidth\":0,\"ticks\":\"\"}}}],\"scatter3d\":[{\"type\":\"scatter3d\",\"line\":{\"colorbar\":{\"outlinewidth\":0,\"ticks\":\"\"}},\"marker\":{\"colorbar\":{\"outlinewidth\":0,\"ticks\":\"\"}}}],\"scattermapbox\":[{\"type\":\"scattermapbox\",\"marker\":{\"colorbar\":{\"outlinewidth\":0,\"ticks\":\"\"}}}],\"scatterternary\":[{\"type\":\"scatterternary\",\"marker\":{\"colorbar\":{\"outlinewidth\":0,\"ticks\":\"\"}}}],\"scattercarpet\":[{\"type\":\"scattercarpet\",\"marker\":{\"colorbar\":{\"outlinewidth\":0,\"ticks\":\"\"}}}],\"carpet\":[{\"aaxis\":{\"endlinecolor\":\"#2a3f5f\",\"gridcolor\":\"white\",\"linecolor\":\"white\",\"minorgridcolor\":\"white\",\"startlinecolor\":\"#2a3f5f\"},\"baxis\":{\"endlinecolor\":\"#2a3f5f\",\"gridcolor\":\"white\",\"linecolor\":\"white\",\"minorgridcolor\":\"white\",\"startlinecolor\":\"#2a3f5f\"},\"type\":\"carpet\"}],\"table\":[{\"cells\":{\"fill\":{\"color\":\"#EBF0F8\"},\"line\":{\"color\":\"white\"}},\"header\":{\"fill\":{\"color\":\"#C8D4E3\"},\"line\":{\"color\":\"white\"}},\"type\":\"table\"}],\"barpolar\":[{\"marker\":{\"line\":{\"color\":\"#E5ECF6\",\"width\":0.5},\"pattern\":{\"fillmode\":\"overlay\",\"size\":10,\"solidity\":0.2}},\"type\":\"barpolar\"}],\"pie\":[{\"automargin\":true,\"type\":\"pie\"}]},\"layout\":{\"autotypenumbers\":\"strict\",\"colorway\":[\"#636efa\",\"#EF553B\",\"#00cc96\",\"#ab63fa\",\"#FFA15A\",\"#19d3f3\",\"#FF6692\",\"#B6E880\",\"#FF97FF\",\"#FECB52\"],\"font\":{\"color\":\"#2a3f5f\"},\"hovermode\":\"closest\",\"hoverlabel\":{\"align\":\"left\"},\"paper_bgcolor\":\"white\",\"plot_bgcolor\":\"#E5ECF6\",\"polar\":{\"bgcolor\":\"#E5ECF6\",\"angularaxis\":{\"gridcolor\":\"white\",\"linecolor\":\"white\",\"ticks\":\"\"},\"radialaxis\":{\"gridcolor\":\"white\",\"linecolor\":\"white\",\"ticks\":\"\"}},\"ternary\":{\"bgcolor\":\"#E5ECF6\",\"aaxis\":{\"gridcolor\":\"white\",\"linecolor\":\"white\",\"ticks\":\"\"},\"baxis\":{\"gridcolor\":\"white\",\"linecolor\":\"white\",\"ticks\":\"\"},\"caxis\":{\"gridcolor\":\"white\",\"linecolor\":\"white\",\"ticks\":\"\"}},\"coloraxis\":{\"colorbar\":{\"outlinewidth\":0,\"ticks\":\"\"}},\"colorscale\":{\"sequential\":[[0.0,\"#0d0887\"],[0.1111111111111111,\"#46039f\"],[0.2222222222222222,\"#7201a8\"],[0.3333333333333333,\"#9c179e\"],[0.4444444444444444,\"#bd3786\"],[0.5555555555555556,\"#d8576b\"],[0.6666666666666666,\"#ed7953\"],[0.7777777777777778,\"#fb9f3a\"],[0.8888888888888888,\"#fdca26\"],[1.0,\"#f0f921\"]],\"sequentialminus\":[[0.0,\"#0d0887\"],[0.1111111111111111,\"#46039f\"],[0.2222222222222222,\"#7201a8\"],[0.3333333333333333,\"#9c179e\"],[0.4444444444444444,\"#bd3786\"],[0.5555555555555556,\"#d8576b\"],[0.6666666666666666,\"#ed7953\"],[0.7777777777777778,\"#fb9f3a\"],[0.8888888888888888,\"#fdca26\"],[1.0,\"#f0f921\"]],\"diverging\":[[0,\"#8e0152\"],[0.1,\"#c51b7d\"],[0.2,\"#de77ae\"],[0.3,\"#f1b6da\"],[0.4,\"#fde0ef\"],[0.5,\"#f7f7f7\"],[0.6,\"#e6f5d0\"],[0.7,\"#b8e186\"],[0.8,\"#7fbc41\"],[0.9,\"#4d9221\"],[1,\"#276419\"]]},\"xaxis\":{\"gridcolor\":\"white\",\"linecolor\":\"white\",\"ticks\":\"\",\"title\":{\"standoff\":15},\"zerolinecolor\":\"white\",\"automargin\":true,\"zerolinewidth\":2},\"yaxis\":{\"gridcolor\":\"white\",\"linecolor\":\"white\",\"ticks\":\"\",\"title\":{\"standoff\":15},\"zerolinecolor\":\"white\",\"automargin\":true,\"zerolinewidth\":2},\"scene\":{\"xaxis\":{\"backgroundcolor\":\"#E5ECF6\",\"gridcolor\":\"white\",\"linecolor\":\"white\",\"showbackground\":true,\"ticks\":\"\",\"zerolinecolor\":\"white\",\"gridwidth\":2},\"yaxis\":{\"backgroundcolor\":\"#E5ECF6\",\"gridcolor\":\"white\",\"linecolor\":\"white\",\"showbackground\":true,\"ticks\":\"\",\"zerolinecolor\":\"white\",\"gridwidth\":2},\"zaxis\":{\"backgroundcolor\":\"#E5ECF6\",\"gridcolor\":\"white\",\"linecolor\":\"white\",\"showbackground\":true,\"ticks\":\"\",\"zerolinecolor\":\"white\",\"gridwidth\":2}},\"shapedefaults\":{\"line\":{\"color\":\"#2a3f5f\"}},\"annotationdefaults\":{\"arrowcolor\":\"#2a3f5f\",\"arrowhead\":0,\"arrowwidth\":1},\"geo\":{\"bgcolor\":\"white\",\"landcolor\":\"#E5ECF6\",\"subunitcolor\":\"white\",\"showland\":true,\"showlakes\":true,\"lakecolor\":\"white\"},\"title\":{\"x\":0.05},\"mapbox\":{\"style\":\"light\"}}},\"xaxis\":{\"anchor\":\"y\",\"domain\":[0.0,1.0],\"title\":{\"text\":\"additional_features\"},\"tickangle\":60,\"automargin\":true},\"yaxis\":{\"anchor\":\"x\",\"domain\":[0.0,1.0],\"title\":{\"text\":\"Count\"}},\"legend\":{\"title\":{\"text\":\"gender\"},\"tracegroupgap\":0},\"title\":{\"text\":\"additional_features\"},\"barmode\":\"group\",\"font\":{\"size\":14},\"width\":1000,\"height\":700},                        {\"responsive\": true}                    ).then(function(){\n",
       "                            \n",
       "var gd = document.getElementById('67758ad7-fa2b-49ea-a6bc-d0edd8be6c22');\n",
       "var x = new MutationObserver(function (mutations, observer) {{\n",
       "        var display = window.getComputedStyle(gd).display;\n",
       "        if (!display || display === 'none') {{\n",
       "            console.log([gd, 'removed!']);\n",
       "            Plotly.purge(gd);\n",
       "            observer.disconnect();\n",
       "        }}\n",
       "}});\n",
       "\n",
       "// Listen for the removal of the full notebook cells\n",
       "var notebookContainer = gd.closest('#notebook-container');\n",
       "if (notebookContainer) {{\n",
       "    x.observe(notebookContainer, {childList: true});\n",
       "}}\n",
       "\n",
       "// Listen for the clearing of the current output cell\n",
       "var outputEl = gd.closest('.output');\n",
       "if (outputEl) {{\n",
       "    x.observe(outputEl, {childList: true});\n",
       "}}\n",
       "\n",
       "                        })                };                });            </script>        </div>"
      ]
     },
     "metadata": {},
     "output_type": "display_data"
    }
   ],
   "source": [
    "import plotly.express as px\n",
    "\n",
    "\n",
    "addfea_count = data.groupby(['additional_features', 'gender']).size().reset_index(name='count')\n",
    "\n",
    "fig = px.bar(addfea_count, \n",
    "             x='additional_features', \n",
    "             y='count', \n",
    "             color='gender', \n",
    "             title=\"additional_features by Gender\", \n",
    "             labels={'additional_features': 'additional_features', 'count': 'Count'},\n",
    "             color_discrete_sequence=['#b8b8b8', '#1a80bb', '#a6a6d8'])\n",
    "\n",
    "fig.update_layout(barmode='group',\n",
    "                  xaxis_tickangle=60, \n",
    "                  title_text=\"additional_features\", \n",
    "                  xaxis_title=\"additional_features\", \n",
    "                  yaxis_title=\"Count\", \n",
    "                  font=dict(size=14),\n",
    "                  width=1000,  \n",
    "                  height=700,  \n",
    "                  xaxis={'automargin': True})\n",
    "\n",
    "\n",
    "fig.show()"
   ]
  },
  {
   "cell_type": "code",
   "execution_count": null,
   "id": "c2adb193",
   "metadata": {},
   "outputs": [],
   "source": []
  }
 ],
 "metadata": {
  "kernelspec": {
   "display_name": "Python 3 (ipykernel)",
   "language": "python",
   "name": "python3"
  },
  "language_info": {
   "codemirror_mode": {
    "name": "ipython",
    "version": 3
   },
   "file_extension": ".py",
   "mimetype": "text/x-python",
   "name": "python",
   "nbconvert_exporter": "python",
   "pygments_lexer": "ipython3",
   "version": "3.11.5"
  }
 },
 "nbformat": 4,
 "nbformat_minor": 5
}
